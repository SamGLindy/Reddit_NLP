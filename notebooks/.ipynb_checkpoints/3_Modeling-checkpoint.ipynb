{
 "cells": [
  {
   "cell_type": "markdown",
   "metadata": {},
   "source": [
    "# Modeling"
   ]
  },
  {
   "cell_type": "markdown",
   "metadata": {},
   "source": [
    "## Imports "
   ]
  },
  {
   "cell_type": "code",
   "execution_count": 1,
   "metadata": {
    "ExecuteTime": {
     "end_time": "2021-04-30T19:31:51.369626Z",
     "start_time": "2021-04-30T19:31:49.076915Z"
    }
   },
   "outputs": [],
   "source": [
    "import pandas as pd\n",
    "import matplotlib.pyplot as plt\n",
    "from sklearn.model_selection import train_test_split, GridSearchCV, cross_val_score\n",
    "from sklearn.pipeline import Pipeline\n",
    "from sklearn.naive_bayes import MultinomialNB\n",
    "from sklearn.linear_model import LogisticRegression\n",
    "from sklearn.metrics import confusion_matrix, plot_confusion_matrix, \\\n",
    "                            roc_auc_score, roc_curve\n",
    "\n",
    "\n",
    "from sklearn.feature_extraction.text import CountVectorizer, TfidfVectorizer\n",
    "from sklearn.ensemble import RandomForestClassifier\n",
    "\n",
    "from PIL import Image\n",
    "from wordcloud import WordCloud, STOPWORDS, ImageColorGenerator"
   ]
  },
  {
   "cell_type": "markdown",
   "metadata": {},
   "source": [
    "## Load in Data "
   ]
  },
  {
   "cell_type": "code",
   "execution_count": 2,
   "metadata": {
    "ExecuteTime": {
     "end_time": "2021-04-30T19:31:51.771448Z",
     "start_time": "2021-04-30T19:31:51.371591Z"
    }
   },
   "outputs": [],
   "source": [
    "data = './data/clean_full.csv'\n",
    "df = pd.read_csv(data)"
   ]
  },
  {
   "cell_type": "code",
   "execution_count": 3,
   "metadata": {
    "ExecuteTime": {
     "end_time": "2021-04-30T19:31:51.821111Z",
     "start_time": "2021-04-30T19:31:51.790014Z"
    }
   },
   "outputs": [
    {
     "data": {
      "text/plain": [
       "title                          71\n",
       "selftext                     6897\n",
       "subreddit                       0\n",
       "created_utc                     0\n",
       "author                          0\n",
       "num_comments                    0\n",
       "score                           0\n",
       "is_self                         0\n",
       "timestamp                       0\n",
       "title_and_selftext             68\n",
       "is_bitcoin                      0\n",
       "selftext_tokens                 0\n",
       "title_and_selftext_tokens       0\n",
       "selftext_lem                 6897\n",
       "title_and_selftext_lem         68\n",
       "title_word_count                0\n",
       "title_length                    0\n",
       "selftext_word_count             0\n",
       "selftext_length                 0\n",
       "dtype: int64"
      ]
     },
     "execution_count": 3,
     "metadata": {},
     "output_type": "execute_result"
    }
   ],
   "source": [
    "df.isnull().sum()"
   ]
  },
  {
   "cell_type": "code",
   "execution_count": 94,
   "metadata": {
    "ExecuteTime": {
     "end_time": "2021-05-01T02:49:14.064808Z",
     "start_time": "2021-05-01T02:49:13.986411Z"
    }
   },
   "outputs": [
    {
     "name": "stdout",
     "output_type": "stream",
     "text": [
      "<class 'pandas.core.frame.DataFrame'>\n",
      "Int64Index: 13991 entries, 0 to 14047\n",
      "Data columns (total 20 columns):\n",
      " #   Column                     Non-Null Count  Dtype  \n",
      "---  ------                     --------------  -----  \n",
      " 0   title                      13954 non-null  object \n",
      " 1   selftext                   7151 non-null   object \n",
      " 2   subreddit                  13980 non-null  object \n",
      " 3   created_utc                13980 non-null  float64\n",
      " 4   author                     13980 non-null  object \n",
      " 5   num_comments               13980 non-null  float64\n",
      " 6   score                      13980 non-null  float64\n",
      " 7   is_self                    13980 non-null  object \n",
      " 8   timestamp                  13980 non-null  object \n",
      " 9   title_and_selftext         13980 non-null  object \n",
      " 10  is_bitcoin                 13980 non-null  float64\n",
      " 11  selftext_tokens            13980 non-null  object \n",
      " 12  title_and_selftext_tokens  13980 non-null  object \n",
      " 13  selftext_lem               7151 non-null   object \n",
      " 14  title_and_selftext_lem     13980 non-null  object \n",
      " 15  title_word_count           13980 non-null  float64\n",
      " 16  title_length               13980 non-null  float64\n",
      " 17  selftext_word_count        13980 non-null  float64\n",
      " 18  selftext_length            13980 non-null  float64\n",
      " 19  preds                      3495 non-null   float64\n",
      "dtypes: float64(9), object(11)\n",
      "memory usage: 2.2+ MB\n"
     ]
    }
   ],
   "source": [
    "df.info()"
   ]
  },
  {
   "cell_type": "code",
   "execution_count": 4,
   "metadata": {
    "ExecuteTime": {
     "end_time": "2021-04-30T19:31:51.871978Z",
     "start_time": "2021-04-30T19:31:51.833057Z"
    }
   },
   "outputs": [],
   "source": [
    "df.dropna(subset=['title_and_selftext_lem'], inplace=True)"
   ]
  },
  {
   "cell_type": "code",
   "execution_count": 5,
   "metadata": {
    "ExecuteTime": {
     "end_time": "2021-04-30T19:31:51.918420Z",
     "start_time": "2021-04-30T19:31:51.876044Z"
    }
   },
   "outputs": [
    {
     "data": {
      "text/html": [
       "<div>\n",
       "<style scoped>\n",
       "    .dataframe tbody tr th:only-of-type {\n",
       "        vertical-align: middle;\n",
       "    }\n",
       "\n",
       "    .dataframe tbody tr th {\n",
       "        vertical-align: top;\n",
       "    }\n",
       "\n",
       "    .dataframe thead th {\n",
       "        text-align: right;\n",
       "    }\n",
       "</style>\n",
       "<table border=\"1\" class=\"dataframe\">\n",
       "  <thead>\n",
       "    <tr style=\"text-align: right;\">\n",
       "      <th></th>\n",
       "      <th>title</th>\n",
       "      <th>selftext</th>\n",
       "      <th>subreddit</th>\n",
       "      <th>created_utc</th>\n",
       "      <th>author</th>\n",
       "      <th>num_comments</th>\n",
       "      <th>score</th>\n",
       "      <th>is_self</th>\n",
       "      <th>timestamp</th>\n",
       "      <th>title_and_selftext</th>\n",
       "      <th>is_bitcoin</th>\n",
       "      <th>selftext_tokens</th>\n",
       "      <th>title_and_selftext_tokens</th>\n",
       "      <th>selftext_lem</th>\n",
       "      <th>title_and_selftext_lem</th>\n",
       "      <th>title_word_count</th>\n",
       "      <th>title_length</th>\n",
       "      <th>selftext_word_count</th>\n",
       "      <th>selftext_length</th>\n",
       "    </tr>\n",
       "  </thead>\n",
       "  <tbody>\n",
       "    <tr>\n",
       "      <th>0</th>\n",
       "      <td>passive bitaltcoin apps</td>\n",
       "      <td>hi kinda new crypto saw thread day good recomm...</td>\n",
       "      <td>Bitcoin</td>\n",
       "      <td>1619299928</td>\n",
       "      <td>Comfortable-Hall-501</td>\n",
       "      <td>7</td>\n",
       "      <td>1</td>\n",
       "      <td>True</td>\n",
       "      <td>2021-04-24</td>\n",
       "      <td>passive bitaltcoin apps hi kinda new crypto sa...</td>\n",
       "      <td>1</td>\n",
       "      <td>['hi', 'kinda', 'new', 'crypto', 'saw', 'threa...</td>\n",
       "      <td>['passive', 'bitaltcoin', 'apps', 'hi', 'kinda...</td>\n",
       "      <td>hi kinda new crypto saw thread day good recomm...</td>\n",
       "      <td>passive bitaltcoin apps hi kinda new crypto sa...</td>\n",
       "      <td>3</td>\n",
       "      <td>23</td>\n",
       "      <td>30</td>\n",
       "      <td>208</td>\n",
       "    </tr>\n",
       "    <tr>\n",
       "      <th>1</th>\n",
       "      <td>why i think dorian satoshi nakamoto is creator...</td>\n",
       "      <td>know dorian denied creator bitcoin lived town ...</td>\n",
       "      <td>Bitcoin</td>\n",
       "      <td>1619300188</td>\n",
       "      <td>bruh_360</td>\n",
       "      <td>4</td>\n",
       "      <td>1</td>\n",
       "      <td>True</td>\n",
       "      <td>2021-04-24</td>\n",
       "      <td>think dorian satoshi nakamoto creator bitcoin ...</td>\n",
       "      <td>1</td>\n",
       "      <td>['know', 'dorian', 'denied', 'creator', 'bitco...</td>\n",
       "      <td>['think', 'dorian', 'satoshi', 'nakamoto', 'cr...</td>\n",
       "      <td>know dorian denied creator bitcoin lived town ...</td>\n",
       "      <td>think dorian satoshi nakamoto creator bitcoin ...</td>\n",
       "      <td>10</td>\n",
       "      <td>57</td>\n",
       "      <td>61</td>\n",
       "      <td>448</td>\n",
       "    </tr>\n",
       "    <tr>\n",
       "      <th>2</th>\n",
       "      <td>why wont bitcoin get regulated</td>\n",
       "      <td>im new cryptocurrency even blockchain technolo...</td>\n",
       "      <td>Bitcoin</td>\n",
       "      <td>1619300698</td>\n",
       "      <td>No-Librarian9752</td>\n",
       "      <td>9</td>\n",
       "      <td>1</td>\n",
       "      <td>True</td>\n",
       "      <td>2021-04-24</td>\n",
       "      <td>wont bitcoin get regulated im new cryptocurren...</td>\n",
       "      <td>1</td>\n",
       "      <td>['im', 'new', 'cryptocurrency', 'even', 'block...</td>\n",
       "      <td>['wont', 'bitcoin', 'get', 'regulated', 'im', ...</td>\n",
       "      <td>im new cryptocurrency even blockchain technolo...</td>\n",
       "      <td>wont bitcoin get regulated im new cryptocurren...</td>\n",
       "      <td>5</td>\n",
       "      <td>30</td>\n",
       "      <td>52</td>\n",
       "      <td>364</td>\n",
       "    </tr>\n",
       "    <tr>\n",
       "      <th>3</th>\n",
       "      <td>the beginning of a journey</td>\n",
       "      <td>hey everyone last week emotional rollercoaster...</td>\n",
       "      <td>Bitcoin</td>\n",
       "      <td>1619301239</td>\n",
       "      <td>Mammoth_Lettuce_6706</td>\n",
       "      <td>11</td>\n",
       "      <td>1</td>\n",
       "      <td>True</td>\n",
       "      <td>2021-04-24</td>\n",
       "      <td>beginning journey hey everyone last week emoti...</td>\n",
       "      <td>1</td>\n",
       "      <td>['hey', 'everyone', 'last', 'week', 'emotional...</td>\n",
       "      <td>['beginning', 'journey', 'hey', 'everyone', 'l...</td>\n",
       "      <td>hey everyone last week emotional rollercoaster...</td>\n",
       "      <td>beginning journey hey everyone last week emoti...</td>\n",
       "      <td>5</td>\n",
       "      <td>26</td>\n",
       "      <td>185</td>\n",
       "      <td>1232</td>\n",
       "    </tr>\n",
       "    <tr>\n",
       "      <th>4</th>\n",
       "      <td>real inflation rates</td>\n",
       "      <td>pretty famous study inflection point diminishi...</td>\n",
       "      <td>Bitcoin</td>\n",
       "      <td>1619302086</td>\n",
       "      <td>Easteuroblondie</td>\n",
       "      <td>93</td>\n",
       "      <td>1</td>\n",
       "      <td>True</td>\n",
       "      <td>2021-04-24</td>\n",
       "      <td>real inflation rates pretty famous study infle...</td>\n",
       "      <td>1</td>\n",
       "      <td>['pretty', 'famous', 'study', 'inflection', 'p...</td>\n",
       "      <td>['real', 'inflation', 'rates', 'pretty', 'famo...</td>\n",
       "      <td>pretty famous study inflection point diminishi...</td>\n",
       "      <td>real inflation rates pretty famous study infle...</td>\n",
       "      <td>3</td>\n",
       "      <td>20</td>\n",
       "      <td>94</td>\n",
       "      <td>679</td>\n",
       "    </tr>\n",
       "  </tbody>\n",
       "</table>\n",
       "</div>"
      ],
      "text/plain": [
       "                                               title  \\\n",
       "0                            passive bitaltcoin apps   \n",
       "1  why i think dorian satoshi nakamoto is creator...   \n",
       "2                     why wont bitcoin get regulated   \n",
       "3                         the beginning of a journey   \n",
       "4                               real inflation rates   \n",
       "\n",
       "                                            selftext subreddit  created_utc  \\\n",
       "0  hi kinda new crypto saw thread day good recomm...   Bitcoin   1619299928   \n",
       "1  know dorian denied creator bitcoin lived town ...   Bitcoin   1619300188   \n",
       "2  im new cryptocurrency even blockchain technolo...   Bitcoin   1619300698   \n",
       "3  hey everyone last week emotional rollercoaster...   Bitcoin   1619301239   \n",
       "4  pretty famous study inflection point diminishi...   Bitcoin   1619302086   \n",
       "\n",
       "                 author  num_comments  score  is_self   timestamp  \\\n",
       "0  Comfortable-Hall-501             7      1     True  2021-04-24   \n",
       "1              bruh_360             4      1     True  2021-04-24   \n",
       "2      No-Librarian9752             9      1     True  2021-04-24   \n",
       "3  Mammoth_Lettuce_6706            11      1     True  2021-04-24   \n",
       "4       Easteuroblondie            93      1     True  2021-04-24   \n",
       "\n",
       "                                  title_and_selftext  is_bitcoin  \\\n",
       "0  passive bitaltcoin apps hi kinda new crypto sa...           1   \n",
       "1  think dorian satoshi nakamoto creator bitcoin ...           1   \n",
       "2  wont bitcoin get regulated im new cryptocurren...           1   \n",
       "3  beginning journey hey everyone last week emoti...           1   \n",
       "4  real inflation rates pretty famous study infle...           1   \n",
       "\n",
       "                                     selftext_tokens  \\\n",
       "0  ['hi', 'kinda', 'new', 'crypto', 'saw', 'threa...   \n",
       "1  ['know', 'dorian', 'denied', 'creator', 'bitco...   \n",
       "2  ['im', 'new', 'cryptocurrency', 'even', 'block...   \n",
       "3  ['hey', 'everyone', 'last', 'week', 'emotional...   \n",
       "4  ['pretty', 'famous', 'study', 'inflection', 'p...   \n",
       "\n",
       "                           title_and_selftext_tokens  \\\n",
       "0  ['passive', 'bitaltcoin', 'apps', 'hi', 'kinda...   \n",
       "1  ['think', 'dorian', 'satoshi', 'nakamoto', 'cr...   \n",
       "2  ['wont', 'bitcoin', 'get', 'regulated', 'im', ...   \n",
       "3  ['beginning', 'journey', 'hey', 'everyone', 'l...   \n",
       "4  ['real', 'inflation', 'rates', 'pretty', 'famo...   \n",
       "\n",
       "                                        selftext_lem  \\\n",
       "0  hi kinda new crypto saw thread day good recomm...   \n",
       "1  know dorian denied creator bitcoin lived town ...   \n",
       "2  im new cryptocurrency even blockchain technolo...   \n",
       "3  hey everyone last week emotional rollercoaster...   \n",
       "4  pretty famous study inflection point diminishi...   \n",
       "\n",
       "                              title_and_selftext_lem  title_word_count  \\\n",
       "0  passive bitaltcoin apps hi kinda new crypto sa...                 3   \n",
       "1  think dorian satoshi nakamoto creator bitcoin ...                10   \n",
       "2  wont bitcoin get regulated im new cryptocurren...                 5   \n",
       "3  beginning journey hey everyone last week emoti...                 5   \n",
       "4  real inflation rates pretty famous study infle...                 3   \n",
       "\n",
       "   title_length  selftext_word_count  selftext_length  \n",
       "0            23                   30              208  \n",
       "1            57                   61              448  \n",
       "2            30                   52              364  \n",
       "3            26                  185             1232  \n",
       "4            20                   94              679  "
      ]
     },
     "execution_count": 5,
     "metadata": {},
     "output_type": "execute_result"
    }
   ],
   "source": [
    "df.head()"
   ]
  },
  {
   "cell_type": "code",
   "execution_count": 6,
   "metadata": {
    "ExecuteTime": {
     "end_time": "2021-04-30T19:31:51.930355Z",
     "start_time": "2021-04-30T19:31:51.924368Z"
    },
    "code_folding": [
     0
    ]
   },
   "outputs": [],
   "source": [
    "# features = ['title_and_selftext_lem', 'title_word_count', \\\n",
    "#             'title_length', 'selftext_word_count', 'selftext_length']"
   ]
  },
  {
   "cell_type": "code",
   "execution_count": 7,
   "metadata": {
    "ExecuteTime": {
     "end_time": "2021-04-30T19:31:51.943012Z",
     "start_time": "2021-04-30T19:31:51.936094Z"
    }
   },
   "outputs": [],
   "source": [
    "X = df['title_and_selftext_lem']\n",
    "y = df['is_bitcoin']"
   ]
  },
  {
   "cell_type": "code",
   "execution_count": 8,
   "metadata": {
    "ExecuteTime": {
     "end_time": "2021-04-30T19:31:51.972552Z",
     "start_time": "2021-04-30T19:31:51.961165Z"
    }
   },
   "outputs": [
    {
     "data": {
      "text/plain": [
       "(13980,)"
      ]
     },
     "execution_count": 8,
     "metadata": {},
     "output_type": "execute_result"
    }
   ],
   "source": [
    "X.shape"
   ]
  },
  {
   "cell_type": "code",
   "execution_count": 9,
   "metadata": {
    "ExecuteTime": {
     "end_time": "2021-04-30T19:31:51.990333Z",
     "start_time": "2021-04-30T19:31:51.980372Z"
    }
   },
   "outputs": [
    {
     "data": {
      "text/plain": [
       "(13980,)"
      ]
     },
     "execution_count": 9,
     "metadata": {},
     "output_type": "execute_result"
    }
   ],
   "source": [
    "y.shape"
   ]
  },
  {
   "cell_type": "markdown",
   "metadata": {},
   "source": [
    "It appears there were some extra nulls that sprouted up along the way, so let's clean up the dataframe again so we can feed data into the models."
   ]
  },
  {
   "cell_type": "markdown",
   "metadata": {},
   "source": [
    "### Baseline Score "
   ]
  },
  {
   "cell_type": "code",
   "execution_count": 93,
   "metadata": {
    "ExecuteTime": {
     "end_time": "2021-05-01T02:01:19.064464Z",
     "start_time": "2021-05-01T02:01:19.028986Z"
    }
   },
   "outputs": [
    {
     "data": {
      "text/plain": [
       "1    0.505293\n",
       "0    0.494707\n",
       "Name: is_bitcoin, dtype: float64"
      ]
     },
     "execution_count": 93,
     "metadata": {},
     "output_type": "execute_result"
    }
   ],
   "source": [
    "y.value_counts(normalize=True)"
   ]
  },
  {
   "cell_type": "markdown",
   "metadata": {},
   "source": [
    "The baseline score is roughly a 50/50 split between whether a post is from the Bitcoin or Ethereum subreddit.\n",
    "\n",
    "Now let's set up a train test split and vecotorize the data."
   ]
  },
  {
   "cell_type": "code",
   "execution_count": 11,
   "metadata": {
    "ExecuteTime": {
     "end_time": "2021-04-30T19:31:52.033940Z",
     "start_time": "2021-04-30T19:31:52.014712Z"
    }
   },
   "outputs": [],
   "source": [
    "# Train test split\n",
    "\n",
    "X_train, X_test, y_train, y_test = train_test_split(X,\n",
    "                                                   y,\n",
    "                                                   test_size = 0.25,\n",
    "                                                   stratify=y,\n",
    "                                                   random_state=42)"
   ]
  },
  {
   "cell_type": "code",
   "execution_count": 12,
   "metadata": {
    "ExecuteTime": {
     "end_time": "2021-04-30T19:31:52.764047Z",
     "start_time": "2021-04-30T19:31:52.039660Z"
    }
   },
   "outputs": [],
   "source": [
    "cvec = CountVectorizer(max_features=500)\n",
    "Xcv_train = cvec.fit_transform(X_train)\n",
    "Xcv_test = cvec.transform(X_test)"
   ]
  },
  {
   "cell_type": "markdown",
   "metadata": {},
   "source": [
    "## Count Vectorizer & Naive Bayes - Model 1"
   ]
  },
  {
   "cell_type": "code",
   "execution_count": 13,
   "metadata": {
    "ExecuteTime": {
     "end_time": "2021-04-30T19:31:52.774959Z",
     "start_time": "2021-04-30T19:31:52.769459Z"
    }
   },
   "outputs": [],
   "source": [
    "mnb = MultinomialNB()"
   ]
  },
  {
   "cell_type": "code",
   "execution_count": 14,
   "metadata": {
    "ExecuteTime": {
     "end_time": "2021-04-30T19:31:52.800442Z",
     "start_time": "2021-04-30T19:31:52.786208Z"
    }
   },
   "outputs": [],
   "source": [
    "pipe = Pipeline([\n",
    "    ('cvec', CountVectorizer()),\n",
    "    ('mnb', MultinomialNB())\n",
    "])"
   ]
  },
  {
   "cell_type": "code",
   "execution_count": 15,
   "metadata": {
    "ExecuteTime": {
     "end_time": "2021-04-30T19:31:54.822871Z",
     "start_time": "2021-04-30T19:31:52.812152Z"
    }
   },
   "outputs": [
    {
     "data": {
      "text/plain": [
       "0.851311397234144"
      ]
     },
     "execution_count": 15,
     "metadata": {},
     "output_type": "execute_result"
    }
   ],
   "source": [
    "cross_val_score(pipe, X_train, y_train, cv=5).mean() "
   ]
  },
  {
   "cell_type": "markdown",
   "metadata": {},
   "source": [
    "Model has an 85% chance of predicting the accuracy of unseen data."
   ]
  },
  {
   "cell_type": "code",
   "execution_count": 16,
   "metadata": {
    "ExecuteTime": {
     "end_time": "2021-04-30T19:31:55.389500Z",
     "start_time": "2021-04-30T19:31:54.825221Z"
    }
   },
   "outputs": [
    {
     "data": {
      "text/plain": [
       "Pipeline(steps=[('cvec', CountVectorizer()), ('mnb', MultinomialNB())])"
      ]
     },
     "execution_count": 16,
     "metadata": {},
     "output_type": "execute_result"
    }
   ],
   "source": [
    "# Fit your model\n",
    "pipe.fit(X_train, y_train)"
   ]
  },
  {
   "cell_type": "code",
   "execution_count": 17,
   "metadata": {
    "ExecuteTime": {
     "end_time": "2021-04-30T19:31:55.905252Z",
     "start_time": "2021-04-30T19:31:55.392257Z"
    }
   },
   "outputs": [
    {
     "data": {
      "text/plain": [
       "0.9022412970910825"
      ]
     },
     "execution_count": 17,
     "metadata": {},
     "output_type": "execute_result"
    }
   ],
   "source": [
    "# Training score\n",
    "pipe.score(X_train, y_train)"
   ]
  },
  {
   "cell_type": "code",
   "execution_count": 18,
   "metadata": {
    "ExecuteTime": {
     "end_time": "2021-04-30T19:31:56.086222Z",
     "start_time": "2021-04-30T19:31:55.907272Z"
    }
   },
   "outputs": [
    {
     "data": {
      "text/plain": [
       "0.8472103004291845"
      ]
     },
     "execution_count": 18,
     "metadata": {},
     "output_type": "execute_result"
    }
   ],
   "source": [
    "# Test score\n",
    "pipe.score(X_test, y_test)"
   ]
  },
  {
   "cell_type": "markdown",
   "metadata": {},
   "source": [
    "After fitting model 1 to the data, the training score improves while the testing score dips slightly. It's also clear by the higher train score (90% to 85%) that the model is overfit. Let's add some hyperparameters to see if that can improve the model."
   ]
  },
  {
   "cell_type": "code",
   "execution_count": 19,
   "metadata": {
    "ExecuteTime": {
     "end_time": "2021-04-30T19:31:56.106682Z",
     "start_time": "2021-04-30T19:31:56.097307Z"
    }
   },
   "outputs": [],
   "source": [
    "pipe_params = {\n",
    "    'cvec__max_features': [2_000, 3_000, 4_000, 5_000],\n",
    "    'cvec__ngram_range': [(1,1), (1,2), (2,3)]\n",
    "}"
   ]
  },
  {
   "cell_type": "code",
   "execution_count": 20,
   "metadata": {
    "ExecuteTime": {
     "end_time": "2021-04-30T19:31:56.124956Z",
     "start_time": "2021-04-30T19:31:56.110297Z"
    }
   },
   "outputs": [],
   "source": [
    "gs1 = GridSearchCV(pipe, \n",
    "                 pipe_params, \n",
    "                 cv = 5) "
   ]
  },
  {
   "cell_type": "code",
   "execution_count": 21,
   "metadata": {
    "ExecuteTime": {
     "end_time": "2021-04-30T19:33:19.739267Z",
     "start_time": "2021-04-30T19:31:56.132927Z"
    }
   },
   "outputs": [
    {
     "data": {
      "text/plain": [
       "GridSearchCV(cv=5,\n",
       "             estimator=Pipeline(steps=[('cvec', CountVectorizer()),\n",
       "                                       ('mnb', MultinomialNB())]),\n",
       "             param_grid={'cvec__max_features': [2000, 3000, 4000, 5000],\n",
       "                         'cvec__ngram_range': [(1, 1), (1, 2), (2, 3)]})"
      ]
     },
     "execution_count": 21,
     "metadata": {},
     "output_type": "execute_result"
    }
   ],
   "source": [
    "gs1.fit(X_train, y_train)"
   ]
  },
  {
   "cell_type": "code",
   "execution_count": 22,
   "metadata": {
    "ExecuteTime": {
     "end_time": "2021-04-30T19:33:19.760335Z",
     "start_time": "2021-04-30T19:33:19.746126Z"
    }
   },
   "outputs": [
    {
     "data": {
      "text/plain": [
       "0.8533142584644731"
      ]
     },
     "execution_count": 22,
     "metadata": {},
     "output_type": "execute_result"
    }
   ],
   "source": [
    "gs1.best_score_"
   ]
  },
  {
   "cell_type": "markdown",
   "metadata": {},
   "source": [
    "Best score is 85%."
   ]
  },
  {
   "cell_type": "code",
   "execution_count": 23,
   "metadata": {
    "ExecuteTime": {
     "end_time": "2021-04-30T19:33:19.783697Z",
     "start_time": "2021-04-30T19:33:19.775984Z"
    }
   },
   "outputs": [
    {
     "data": {
      "text/plain": [
       "{'cvec__max_features': 5000, 'cvec__ngram_range': (1, 2)}"
      ]
     },
     "execution_count": 23,
     "metadata": {},
     "output_type": "execute_result"
    }
   ],
   "source": [
    "gs1.best_params_"
   ]
  },
  {
   "cell_type": "code",
   "execution_count": 24,
   "metadata": {
    "ExecuteTime": {
     "end_time": "2021-04-30T19:33:20.621036Z",
     "start_time": "2021-04-30T19:33:19.811474Z"
    }
   },
   "outputs": [
    {
     "data": {
      "text/plain": [
       "0.8756318550309966"
      ]
     },
     "execution_count": 24,
     "metadata": {},
     "output_type": "execute_result"
    }
   ],
   "source": [
    "gs1.score(X_train, y_train)"
   ]
  },
  {
   "cell_type": "markdown",
   "metadata": {},
   "source": [
    "Best score on training set is 88%."
   ]
  },
  {
   "cell_type": "code",
   "execution_count": 25,
   "metadata": {
    "ExecuteTime": {
     "end_time": "2021-04-30T19:33:20.914787Z",
     "start_time": "2021-04-30T19:33:20.623921Z"
    }
   },
   "outputs": [
    {
     "data": {
      "text/plain": [
       "0.8477825464949929"
      ]
     },
     "execution_count": 25,
     "metadata": {},
     "output_type": "execute_result"
    }
   ],
   "source": [
    "gs1.score(X_test, y_test)"
   ]
  },
  {
   "cell_type": "markdown",
   "metadata": {},
   "source": [
    "By running the model through GridSearch, it located the best hyperparameters and helped balance the bias-variance tradeoff a little better.  The testing score remained the same, but the lowered training score shows the model is slightly less overfit than it was previously."
   ]
  },
  {
   "cell_type": "markdown",
   "metadata": {},
   "source": [
    "### Predictions - Model 1"
   ]
  },
  {
   "cell_type": "markdown",
   "metadata": {},
   "source": [
    "Now, let's create a confusion matrix that will allow us to identify the model's precision score, the key metric in this project."
   ]
  },
  {
   "cell_type": "code",
   "execution_count": 26,
   "metadata": {
    "ExecuteTime": {
     "end_time": "2021-04-30T19:33:21.216748Z",
     "start_time": "2021-04-30T19:33:20.919128Z"
    }
   },
   "outputs": [],
   "source": [
    "preds = gs1.predict(X_test)"
   ]
  },
  {
   "cell_type": "code",
   "execution_count": 27,
   "metadata": {
    "ExecuteTime": {
     "end_time": "2021-04-30T19:33:21.238514Z",
     "start_time": "2021-04-30T19:33:21.219806Z"
    }
   },
   "outputs": [],
   "source": [
    "tn1, fp1, fn1, tp1 = confusion_matrix(y_test, preds).ravel()"
   ]
  },
  {
   "cell_type": "code",
   "execution_count": 28,
   "metadata": {
    "ExecuteTime": {
     "end_time": "2021-04-30T19:33:21.799419Z",
     "start_time": "2021-04-30T19:33:21.243843Z"
    }
   },
   "outputs": [
    {
     "data": {
      "image/png": "[encoded data removed]",
      "text/plain": [
       "<Figure size 576x396 with 2 Axes>"
      ]
     },
     "metadata": {},
     "output_type": "display_data"
    }
   ],
   "source": [
    "plt.style.use('seaborn')\n",
    "plot_confusion_matrix(gs1, X_test, y_test, cmap='Blues');"
   ]
  },
  {
   "cell_type": "code",
   "execution_count": 29,
   "metadata": {
    "ExecuteTime": {
     "end_time": "2021-04-30T19:33:21.809577Z",
     "start_time": "2021-04-30T19:33:21.801948Z"
    }
   },
   "outputs": [
    {
     "name": "stdout",
     "output_type": "stream",
     "text": [
      "Precision: 0.8261\n"
     ]
    }
   ],
   "source": [
    "prec1 = tp1 / (tp1 + fp1)\n",
    "\n",
    "print('Precision:', prec1.round(4))"
   ]
  },
  {
   "cell_type": "markdown",
   "metadata": {},
   "source": [
    "Since the goal in this project is to minimize the amount of false positives, we want to optimize Precision. This will allow us to more easily evaluate which model is delivering the best results."
   ]
  },
  {
   "cell_type": "markdown",
   "metadata": {},
   "source": [
    "## tf-idf & Naives Bayes - Model 2\n",
    "tf-idf is less concerned with word frequency than Count Vectorizer, so let's see if this approach performs better than model 1."
   ]
  },
  {
   "cell_type": "code",
   "execution_count": 30,
   "metadata": {
    "ExecuteTime": {
     "end_time": "2021-04-30T19:33:21.822629Z",
     "start_time": "2021-04-30T19:33:21.815440Z"
    }
   },
   "outputs": [],
   "source": [
    "pipe_tvec = Pipeline([\n",
    "    ('tvec', TfidfVectorizer()),\n",
    "    ('mnb', MultinomialNB())\n",
    "])"
   ]
  },
  {
   "cell_type": "code",
   "execution_count": 31,
   "metadata": {
    "ExecuteTime": {
     "end_time": "2021-04-30T19:33:24.074581Z",
     "start_time": "2021-04-30T19:33:21.829454Z"
    }
   },
   "outputs": [
    {
     "data": {
      "text/plain": [
       "0.8336671435383881"
      ]
     },
     "execution_count": 31,
     "metadata": {},
     "output_type": "execute_result"
    }
   ],
   "source": [
    "cross_val_score(pipe_tvec, X_train, y_train, cv=5).mean() "
   ]
  },
  {
   "cell_type": "code",
   "execution_count": 32,
   "metadata": {
    "ExecuteTime": {
     "end_time": "2021-04-30T19:33:24.686809Z",
     "start_time": "2021-04-30T19:33:24.078609Z"
    }
   },
   "outputs": [
    {
     "data": {
      "text/plain": [
       "Pipeline(steps=[('tvec', TfidfVectorizer()), ('mnb', MultinomialNB())])"
      ]
     },
     "execution_count": 32,
     "metadata": {},
     "output_type": "execute_result"
    }
   ],
   "source": [
    "# Fit your model\n",
    "pipe_tvec.fit(X_train, y_train)"
   ]
  },
  {
   "cell_type": "code",
   "execution_count": 33,
   "metadata": {
    "ExecuteTime": {
     "end_time": "2021-04-30T19:33:25.230048Z",
     "start_time": "2021-04-30T19:33:24.689407Z"
    }
   },
   "outputs": [
    {
     "data": {
      "text/plain": [
       "0.8980448259418217"
      ]
     },
     "execution_count": 33,
     "metadata": {},
     "output_type": "execute_result"
    }
   ],
   "source": [
    "# Training score\n",
    "pipe_tvec.score(X_train, y_train)"
   ]
  },
  {
   "cell_type": "code",
   "execution_count": 34,
   "metadata": {
    "ExecuteTime": {
     "end_time": "2021-04-30T19:33:25.435428Z",
     "start_time": "2021-04-30T19:33:25.235151Z"
    }
   },
   "outputs": [
    {
     "data": {
      "text/plain": [
       "0.8291845493562232"
      ]
     },
     "execution_count": 34,
     "metadata": {},
     "output_type": "execute_result"
    }
   ],
   "source": [
    "# Training score\n",
    "pipe_tvec.score(X_test, y_test)"
   ]
  },
  {
   "cell_type": "markdown",
   "metadata": {},
   "source": [
    "The training and testing scores are 90% and 83% respectively. Without rounding though, both the scores are a bit lower than model 1. Fitting the model to the data did improve the scores, but our results show there is more variance than we want.\n",
    "\n",
    "Let's add hyperparameters to try to improve the results."
   ]
  },
  {
   "cell_type": "code",
   "execution_count": 35,
   "metadata": {
    "ExecuteTime": {
     "end_time": "2021-04-30T19:33:25.451465Z",
     "start_time": "2021-04-30T19:33:25.440781Z"
    }
   },
   "outputs": [],
   "source": [
    "pipe_tvec_params = {\n",
    "    'tvec__max_features': [2_000, 3_000, 4_000, 5_000],\n",
    "    'tvec__ngram_range': [(1,1), (1,2), (2,3)]\n",
    "}"
   ]
  },
  {
   "cell_type": "code",
   "execution_count": 36,
   "metadata": {
    "ExecuteTime": {
     "end_time": "2021-04-30T19:33:25.459372Z",
     "start_time": "2021-04-30T19:33:25.454491Z"
    }
   },
   "outputs": [],
   "source": [
    "gs2 = GridSearchCV(pipe_tvec, pipe_tvec_params, cv = 5)"
   ]
  },
  {
   "cell_type": "code",
   "execution_count": 37,
   "metadata": {
    "ExecuteTime": {
     "end_time": "2021-04-30T19:34:51.554444Z",
     "start_time": "2021-04-30T19:33:25.463260Z"
    }
   },
   "outputs": [
    {
     "data": {
      "text/plain": [
       "GridSearchCV(cv=5,\n",
       "             estimator=Pipeline(steps=[('tvec', TfidfVectorizer()),\n",
       "                                       ('mnb', MultinomialNB())]),\n",
       "             param_grid={'tvec__max_features': [2000, 3000, 4000, 5000],\n",
       "                         'tvec__ngram_range': [(1, 1), (1, 2), (2, 3)]})"
      ]
     },
     "execution_count": 37,
     "metadata": {},
     "output_type": "execute_result"
    }
   ],
   "source": [
    "gs2.fit(X_train, y_train)"
   ]
  },
  {
   "cell_type": "code",
   "execution_count": 38,
   "metadata": {
    "ExecuteTime": {
     "end_time": "2021-04-30T19:34:52.378049Z",
     "start_time": "2021-04-30T19:34:51.557155Z"
    }
   },
   "outputs": [
    {
     "data": {
      "text/plain": [
       "0.8852646638054363"
      ]
     },
     "execution_count": 38,
     "metadata": {},
     "output_type": "execute_result"
    }
   ],
   "source": [
    "# Score model on training set.\n",
    "\n",
    "gs2.score(X_train, y_train)"
   ]
  },
  {
   "cell_type": "markdown",
   "metadata": {},
   "source": [
    "The training score is 89%. "
   ]
  },
  {
   "cell_type": "code",
   "execution_count": 39,
   "metadata": {
    "ExecuteTime": {
     "end_time": "2021-04-30T19:34:52.669639Z",
     "start_time": "2021-04-30T19:34:52.381928Z"
    }
   },
   "outputs": [
    {
     "data": {
      "text/plain": [
       "0.8360515021459227"
      ]
     },
     "execution_count": 39,
     "metadata": {},
     "output_type": "execute_result"
    }
   ],
   "source": [
    "# Score model on testing set.\n",
    "\n",
    "gs2.score(X_test, y_test)"
   ]
  },
  {
   "cell_type": "markdown",
   "metadata": {},
   "source": [
    "Test score is 84%."
   ]
  },
  {
   "cell_type": "code",
   "execution_count": 40,
   "metadata": {
    "ExecuteTime": {
     "end_time": "2021-04-30T19:34:52.690447Z",
     "start_time": "2021-04-30T19:34:52.674773Z"
    }
   },
   "outputs": [
    {
     "data": {
      "text/plain": [
       "0.8473056747734858"
      ]
     },
     "execution_count": 40,
     "metadata": {},
     "output_type": "execute_result"
    }
   ],
   "source": [
    "gs2.best_score_"
   ]
  },
  {
   "cell_type": "code",
   "execution_count": 41,
   "metadata": {
    "ExecuteTime": {
     "end_time": "2021-04-30T19:34:52.710635Z",
     "start_time": "2021-04-30T19:34:52.695205Z"
    }
   },
   "outputs": [
    {
     "data": {
      "text/plain": [
       "{'tvec__max_features': 5000, 'tvec__ngram_range': (1, 2)}"
      ]
     },
     "execution_count": 41,
     "metadata": {},
     "output_type": "execute_result"
    }
   ],
   "source": [
    "gs2.best_params_"
   ]
  },
  {
   "cell_type": "markdown",
   "metadata": {},
   "source": [
    "Running the model through Gridsearch only improved the performance of the test score slightly, but the model is still overfit.  Model 1 continues to have better results."
   ]
  },
  {
   "cell_type": "markdown",
   "metadata": {},
   "source": [
    "## Predictions - Model 2"
   ]
  },
  {
   "cell_type": "code",
   "execution_count": 42,
   "metadata": {
    "ExecuteTime": {
     "end_time": "2021-04-30T19:34:53.106566Z",
     "start_time": "2021-04-30T19:34:52.715377Z"
    }
   },
   "outputs": [],
   "source": [
    "# # Get predictions\n",
    "preds_tvec = gs2.predict(X_test)"
   ]
  },
  {
   "cell_type": "code",
   "execution_count": 43,
   "metadata": {
    "ExecuteTime": {
     "end_time": "2021-04-30T19:34:53.126346Z",
     "start_time": "2021-04-30T19:34:53.114871Z"
    }
   },
   "outputs": [],
   "source": [
    "# # Save confusion matrix values\n",
    "tn2, fp2, fn2, tp2 = confusion_matrix(y_test, preds_tvec).ravel()"
   ]
  },
  {
   "cell_type": "code",
   "execution_count": 44,
   "metadata": {
    "ExecuteTime": {
     "end_time": "2021-04-30T19:34:53.686628Z",
     "start_time": "2021-04-30T19:34:53.131254Z"
    }
   },
   "outputs": [
    {
     "data": {
      "text/plain": [
       "<sklearn.metrics._plot.confusion_matrix.ConfusionMatrixDisplay at 0x7fc477ede130>"
      ]
     },
     "execution_count": 44,
     "metadata": {},
     "output_type": "execute_result"
    },
    {
     "data": {
      "image/png": "[encoded data removed]",
      "text/plain": [
       "<Figure size 576x396 with 2 Axes>"
      ]
     },
     "metadata": {},
     "output_type": "display_data"
    }
   ],
   "source": [
    "plt.style.use('seaborn')\n",
    "plot_confusion_matrix(gs2, X_test, y_test, cmap = 'Blues')"
   ]
  },
  {
   "cell_type": "code",
   "execution_count": 45,
   "metadata": {
    "ExecuteTime": {
     "end_time": "2021-04-30T19:34:53.699270Z",
     "start_time": "2021-04-30T19:34:53.689028Z"
    }
   },
   "outputs": [
    {
     "name": "stdout",
     "output_type": "stream",
     "text": [
      "Precision: 0.8099\n"
     ]
    }
   ],
   "source": [
    "prec2 = tp2 / (tp2 + fp2)\n",
    "\n",
    "print('Precision:', prec2.round(4))"
   ]
  },
  {
   "cell_type": "markdown",
   "metadata": {},
   "source": [
    "The Count Vectorizer/Naives Bayes model has a slight edge over the tf-idf/Naives Bayes on the Precision score 83% to 81%. "
   ]
  },
  {
   "cell_type": "markdown",
   "metadata": {},
   "source": [
    "In terms of classification, Count Vectorizer performed better than td-idf. However, if this project was to be done again, I'd like to use TfidVectorizer on EDA, which could potentially produce more intereating analysis, since it re-weights count feature vectors and delivers classification that isn't dominated so heavily by the most commanly occuring words, like Count Vectorizer."
   ]
  },
  {
   "cell_type": "markdown",
   "metadata": {},
   "source": [
    "## Count Vectorizer and Random Forest - Model 3"
   ]
  },
  {
   "cell_type": "markdown",
   "metadata": {
    "ExecuteTime": {
     "end_time": "2021-04-29T03:58:58.598622Z",
     "start_time": "2021-04-29T03:58:58.580585Z"
    }
   },
   "source": [
    "Let's also try Random Forest for fun, shall we?"
   ]
  },
  {
   "cell_type": "code",
   "execution_count": 46,
   "metadata": {
    "ExecuteTime": {
     "end_time": "2021-04-30T19:34:53.762191Z",
     "start_time": "2021-04-30T19:34:53.725483Z"
    }
   },
   "outputs": [],
   "source": [
    "X_train, X_test, y_train, y_test = train_test_split(X, \n",
    "                                                    y, \n",
    "                                                    stratify = y,\n",
    "                                                    random_state = 42)"
   ]
  },
  {
   "cell_type": "code",
   "execution_count": 47,
   "metadata": {
    "ExecuteTime": {
     "end_time": "2021-04-30T19:34:54.455722Z",
     "start_time": "2021-04-30T19:34:53.771190Z"
    }
   },
   "outputs": [],
   "source": [
    "cvec = CountVectorizer()\n",
    "\n",
    "X_train_cv = cvec.fit_transform(X_train)\n",
    "X_test_cv = cvec.transform(X_test)"
   ]
  },
  {
   "cell_type": "code",
   "execution_count": 48,
   "metadata": {
    "ExecuteTime": {
     "end_time": "2021-04-30T19:34:55.171331Z",
     "start_time": "2021-04-30T19:34:54.460162Z"
    }
   },
   "outputs": [],
   "source": [
    "df_X_train = pd.DataFrame(X_train_cv.todense(), columns=cvec.get_feature_names())"
   ]
  },
  {
   "cell_type": "code",
   "execution_count": 49,
   "metadata": {
    "ExecuteTime": {
     "end_time": "2021-04-30T19:34:55.179781Z",
     "start_time": "2021-04-30T19:34:55.173942Z"
    }
   },
   "outputs": [],
   "source": [
    "rfc = RandomForestClassifier()"
   ]
  },
  {
   "cell_type": "code",
   "execution_count": 50,
   "metadata": {
    "ExecuteTime": {
     "end_time": "2021-04-30T19:35:20.254780Z",
     "start_time": "2021-04-30T19:34:55.185651Z"
    }
   },
   "outputs": [
    {
     "data": {
      "text/plain": [
       "RandomForestClassifier()"
      ]
     },
     "execution_count": 50,
     "metadata": {},
     "output_type": "execute_result"
    }
   ],
   "source": [
    "rfc.fit(X_train_cv, y_train)"
   ]
  },
  {
   "cell_type": "code",
   "execution_count": 51,
   "metadata": {
    "ExecuteTime": {
     "end_time": "2021-04-30T19:35:21.783341Z",
     "start_time": "2021-04-30T19:35:20.257209Z"
    }
   },
   "outputs": [
    {
     "data": {
      "text/plain": [
       "(0.994277539341917, 0.8400572246065808)"
      ]
     },
     "execution_count": 51,
     "metadata": {},
     "output_type": "execute_result"
    }
   ],
   "source": [
    "rfc.score(X_train_cv, y_train), rfc.score(X_test_cv, y_test)"
   ]
  },
  {
   "cell_type": "markdown",
   "metadata": {},
   "source": [
    "This model is VERY overfit. As we've discussed in class, decision tree models will produce these kinds of results unless hyperparameters are added to help the model generalize unseen data better."
   ]
  },
  {
   "cell_type": "code",
   "execution_count": 52,
   "metadata": {
    "ExecuteTime": {
     "end_time": "2021-04-30T19:35:21.820430Z",
     "start_time": "2021-04-30T19:35:21.789162Z"
    }
   },
   "outputs": [],
   "source": [
    "rfc = RandomForestClassifier()"
   ]
  },
  {
   "cell_type": "code",
   "execution_count": 53,
   "metadata": {
    "ExecuteTime": {
     "end_time": "2021-04-30T19:35:21.833532Z",
     "start_time": "2021-04-30T19:35:21.824952Z"
    }
   },
   "outputs": [],
   "source": [
    "params = {'n_estimators': [750, 1000],\n",
    "          'max_depth': [17, 19],\n",
    "         'min_samples_split': [4, 5],\n",
    "         'min_samples_leaf': [2, 3],\n",
    "         'max_features': ['auto']}"
   ]
  },
  {
   "cell_type": "code",
   "execution_count": 54,
   "metadata": {
    "ExecuteTime": {
     "end_time": "2021-04-30T19:35:21.847248Z",
     "start_time": "2021-04-30T19:35:21.837538Z"
    }
   },
   "outputs": [],
   "source": [
    "gs3 = GridSearchCV(rfc, params, cv = 5)"
   ]
  },
  {
   "cell_type": "code",
   "execution_count": 55,
   "metadata": {
    "ExecuteTime": {
     "end_time": "2021-04-30T20:08:43.115463Z",
     "start_time": "2021-04-30T19:35:21.851593Z"
    }
   },
   "outputs": [
    {
     "data": {
      "text/plain": [
       "GridSearchCV(cv=5, estimator=RandomForestClassifier(),\n",
       "             param_grid={'max_depth': [17, 19], 'max_features': ['auto'],\n",
       "                         'min_samples_leaf': [2, 3],\n",
       "                         'min_samples_split': [4, 5],\n",
       "                         'n_estimators': [750, 1000]})"
      ]
     },
     "execution_count": 55,
     "metadata": {},
     "output_type": "execute_result"
    }
   ],
   "source": [
    "gs3.fit(X_train_cv, y_train)"
   ]
  },
  {
   "cell_type": "code",
   "execution_count": 57,
   "metadata": {
    "ExecuteTime": {
     "end_time": "2021-04-30T20:10:36.495823Z",
     "start_time": "2021-04-30T20:10:32.297171Z"
    }
   },
   "outputs": [
    {
     "data": {
      "text/plain": [
       "(0.8371959942775393, 0.8045779685264663)"
      ]
     },
     "execution_count": 57,
     "metadata": {},
     "output_type": "execute_result"
    }
   ],
   "source": [
    "gs3.score(X_train_cv, y_train), gs3.score(X_test_cv, y_test)"
   ]
  },
  {
   "cell_type": "markdown",
   "metadata": {},
   "source": [
    "As we hoped, the hyperparameters did the trick and reduced the model's variance. That being said, Random Forest has the lowest scores of the three models at this point.\n",
    "\n",
    "To compensate however, this model allows us to take a closer look at the importance of the different features that were evaluated."
   ]
  },
  {
   "cell_type": "code",
   "execution_count": 58,
   "metadata": {
    "ExecuteTime": {
     "end_time": "2021-04-30T20:10:41.797154Z",
     "start_time": "2021-04-30T20:10:40.508677Z"
    },
    "scrolled": true
   },
   "outputs": [
    {
     "data": {
      "text/plain": [
       "array([0.0000000e+00, 0.0000000e+00, 0.0000000e+00, ..., 9.0490882e-06,\n",
       "       0.0000000e+00, 0.0000000e+00])"
      ]
     },
     "execution_count": 58,
     "metadata": {},
     "output_type": "execute_result"
    }
   ],
   "source": [
    "gs3.best_estimator_.feature_importances_"
   ]
  },
  {
   "cell_type": "code",
   "execution_count": 62,
   "metadata": {
    "ExecuteTime": {
     "end_time": "2021-04-30T20:10:59.478132Z",
     "start_time": "2021-04-30T20:10:58.225170Z"
    }
   },
   "outputs": [],
   "source": [
    "d = {'Column Name':df_X_train.columns,'Feature Importance':gs3.best_estimator_.feature_importances_}\n",
    "fi = pd.DataFrame(d)"
   ]
  },
  {
   "cell_type": "code",
   "execution_count": 88,
   "metadata": {
    "ExecuteTime": {
     "end_time": "2021-04-30T21:30:37.279749Z",
     "start_time": "2021-04-30T21:30:37.246131Z"
    }
   },
   "outputs": [
    {
     "data": {
      "text/html": [
       "<div>\n",
       "<style scoped>\n",
       "    .dataframe tbody tr th:only-of-type {\n",
       "        vertical-align: middle;\n",
       "    }\n",
       "\n",
       "    .dataframe tbody tr th {\n",
       "        vertical-align: top;\n",
       "    }\n",
       "\n",
       "    .dataframe thead th {\n",
       "        text-align: right;\n",
       "    }\n",
       "</style>\n",
       "<table border=\"1\" class=\"dataframe\">\n",
       "  <thead>\n",
       "    <tr style=\"text-align: right;\">\n",
       "      <th></th>\n",
       "      <th>Column Name</th>\n",
       "      <th>Feature Importance</th>\n",
       "    </tr>\n",
       "  </thead>\n",
       "  <tbody>\n",
       "    <tr>\n",
       "      <th>2187</th>\n",
       "      <td>bitcoin</td>\n",
       "      <td>0.090333</td>\n",
       "    </tr>\n",
       "    <tr>\n",
       "      <th>7526</th>\n",
       "      <td>ethereum</td>\n",
       "      <td>0.055954</td>\n",
       "    </tr>\n",
       "    <tr>\n",
       "      <th>7488</th>\n",
       "      <td>eth</td>\n",
       "      <td>0.055084</td>\n",
       "    </tr>\n",
       "    <tr>\n",
       "      <th>2836</th>\n",
       "      <td>btc</td>\n",
       "      <td>0.029760</td>\n",
       "    </tr>\n",
       "    <tr>\n",
       "      <th>9231</th>\n",
       "      <td>gas</td>\n",
       "      <td>0.015143</td>\n",
       "    </tr>\n",
       "  </tbody>\n",
       "</table>\n",
       "</div>"
      ],
      "text/plain": [
       "     Column Name  Feature Importance\n",
       "2187     bitcoin            0.090333\n",
       "7526    ethereum            0.055954\n",
       "7488         eth            0.055084\n",
       "2836         btc            0.029760\n",
       "9231         gas            0.015143"
      ]
     },
     "execution_count": 88,
     "metadata": {},
     "output_type": "execute_result"
    }
   ],
   "source": [
    "top_words = fi.sort_values(by=['Feature Importance'], ascending = False).head(100)\n",
    "top_words.head()"
   ]
  },
  {
   "cell_type": "code",
   "execution_count": 91,
   "metadata": {
    "ExecuteTime": {
     "end_time": "2021-04-30T21:32:10.045052Z",
     "start_time": "2021-04-30T21:32:10.039214Z"
    }
   },
   "outputs": [],
   "source": [
    "rfc_text = ' '.join(text for text in top_words['Column Name'])"
   ]
  },
  {
   "cell_type": "code",
   "execution_count": 92,
   "metadata": {
    "ExecuteTime": {
     "end_time": "2021-04-30T21:32:15.246517Z",
     "start_time": "2021-04-30T21:32:14.793197Z"
    },
    "scrolled": true
   },
   "outputs": [
    {
     "data": {
      "image/png": "[encoded data removed]",
      "text/plain": [
       "<Figure size 576x396 with 1 Axes>"
      ]
     },
     "metadata": {},
     "output_type": "display_data"
    }
   ],
   "source": [
    "wordcloud = WordCloud(background_color='white').generate(rfc_text)\n",
    "\n",
    "plt.imshow(wordcloud, interpolation='bilinear')\n",
    "plt.axis('off');"
   ]
  },
  {
   "cell_type": "markdown",
   "metadata": {},
   "source": [
    "## Predictions - Model 3 "
   ]
  },
  {
   "cell_type": "code",
   "execution_count": 66,
   "metadata": {
    "ExecuteTime": {
     "end_time": "2021-04-30T20:11:13.158546Z",
     "start_time": "2021-04-30T20:11:11.465380Z"
    }
   },
   "outputs": [],
   "source": [
    "preds_rfc = gs3.predict(X_test_cv)"
   ]
  },
  {
   "cell_type": "code",
   "execution_count": 67,
   "metadata": {
    "ExecuteTime": {
     "end_time": "2021-04-30T20:11:14.455765Z",
     "start_time": "2021-04-30T20:11:14.404140Z"
    }
   },
   "outputs": [],
   "source": [
    "tn3, fp3, fn3, tp3 = confusion_matrix(y_test, preds_rfc).ravel()"
   ]
  },
  {
   "cell_type": "code",
   "execution_count": 68,
   "metadata": {
    "ExecuteTime": {
     "end_time": "2021-04-30T20:11:17.593693Z",
     "start_time": "2021-04-30T20:11:16.057222Z"
    },
    "scrolled": false
   },
   "outputs": [
    {
     "data": {
      "text/plain": [
       "<sklearn.metrics._plot.confusion_matrix.ConfusionMatrixDisplay at 0x7fc476e6e370>"
      ]
     },
     "execution_count": 68,
     "metadata": {},
     "output_type": "execute_result"
    },
    {
     "data": {
      "image/png": "[encoded data removed]",
      "text/plain": [
       "<Figure size 576x396 with 2 Axes>"
      ]
     },
     "metadata": {},
     "output_type": "display_data"
    }
   ],
   "source": [
    "plt.style.use('seaborn')\n",
    "plot_confusion_matrix(gs3, X_test_cv, y_test, cmap = 'Blues')"
   ]
  },
  {
   "cell_type": "code",
   "execution_count": 69,
   "metadata": {
    "ExecuteTime": {
     "end_time": "2021-04-30T20:11:20.228471Z",
     "start_time": "2021-04-30T20:11:20.174916Z"
    }
   },
   "outputs": [
    {
     "name": "stdout",
     "output_type": "stream",
     "text": [
      "Precision: 0.8519\n"
     ]
    }
   ],
   "source": [
    "prec3 = tp3 / (tp3 + fp3)\n",
    "\n",
    "print('Precision:', prec3.round(4))"
   ]
  },
  {
   "cell_type": "markdown",
   "metadata": {},
   "source": [
    "Despite having the lowest testing scores, Random Forest surprisingly delivers the best precision score yet.  Since minimizing the number of false positives is our goal, model 3 would be the choice at this point.  Let's look at our models' ability to distinguish between true and false postivies another way."
   ]
  },
  {
   "cell_type": "markdown",
   "metadata": {},
   "source": [
    "# ROC AUC Scores & Visuals "
   ]
  },
  {
   "cell_type": "markdown",
   "metadata": {},
   "source": [
    "We can achieve the previously stated objective by plotting the ROC curves of each model. Essentially this will show us how good the model is able to classify true from false positives."
   ]
  },
  {
   "cell_type": "code",
   "execution_count": 70,
   "metadata": {
    "ExecuteTime": {
     "end_time": "2021-04-30T20:11:27.604351Z",
     "start_time": "2021-04-30T20:11:24.980880Z"
    }
   },
   "outputs": [],
   "source": [
    "y_score1 = gs1.predict_proba(X_test)[:,1]\n",
    "y_score2 = gs2.predict_proba(X_test)[:,1]\n",
    "y_score3 = gs3.predict_proba(X_test_cv)[:,1]"
   ]
  },
  {
   "cell_type": "code",
   "execution_count": 71,
   "metadata": {
    "ExecuteTime": {
     "end_time": "2021-04-30T20:11:28.046809Z",
     "start_time": "2021-04-30T20:11:28.016559Z"
    }
   },
   "outputs": [],
   "source": [
    "false_positive_rate1, true_positive_rate1, threshold1 = roc_curve(y_test, y_score1)\n",
    "false_positive_rate2, true_positive_rate2, threshold2 = roc_curve(y_test, y_score2)\n",
    "false_positive_rate3, true_positive_rate3, threshold3 = roc_curve(y_test, y_score3)"
   ]
  },
  {
   "cell_type": "code",
   "execution_count": 72,
   "metadata": {
    "ExecuteTime": {
     "end_time": "2021-04-30T20:11:28.238971Z",
     "start_time": "2021-04-30T20:11:28.210941Z"
    }
   },
   "outputs": [
    {
     "name": "stdout",
     "output_type": "stream",
     "text": [
      "roc_auc_score for CV & NB:  0.9313650228891333\n",
      "roc_auc_score for tf-idf & NB:  0.9253388174679227\n",
      "roc_auc_score for Random Forest:  0.8839878902762612\n"
     ]
    }
   ],
   "source": [
    "print('roc_auc_score for CV & NB: ', roc_auc_score(y_test, y_score1))\n",
    "print('roc_auc_score for tf-idf & NB: ', roc_auc_score(y_test, y_score2))\n",
    "print('roc_auc_score for Random Forest: ', roc_auc_score(y_test, y_score3))"
   ]
  },
  {
   "cell_type": "markdown",
   "metadata": {},
   "source": [
    "Unlike the precision scores from the confusion matrices above, these results show model 3 with the lowest score.  Let's see how this looks on a plot."
   ]
  },
  {
   "cell_type": "code",
   "execution_count": 80,
   "metadata": {
    "ExecuteTime": {
     "end_time": "2021-04-30T20:13:22.310136Z",
     "start_time": "2021-04-30T20:13:21.906617Z"
    }
   },
   "outputs": [
    {
     "data": {
      "image/png": "[encoded data removed]",
      "text/plain": [
       "<Figure size 720x720 with 1 Axes>"
      ]
     },
     "metadata": {},
     "output_type": "display_data"
    }
   ],
   "source": [
    "plt.figure(figsize=(10, 10))\n",
    "plt.title('Model Comparison: ROC Curves', fontsize=20)\n",
    "plt.plot(false_positive_rate1, true_positive_rate1)\n",
    "plt.plot(false_positive_rate2, true_positive_rate2)\n",
    "plt.plot(false_positive_rate3, true_positive_rate3)\n",
    "plt.plot([0, 1], ls=\"--\")\n",
    "plt.plot([0, 0], [1, 0] , c=\".7\"), plt.plot([1, 1] , c=\".7\")\n",
    "plt.ylabel('True Positive Rate')\n",
    "plt.xlabel('False Positive Rate')\n",
    "plt.legend(['CV & NB', 'tf-idf & NB', 'Random Forest'])\n",
    "plt.show()\n",
    "\n",
    "#https://www.dezyre.com/recipes/plot-roc-curve-in-python"
   ]
  },
  {
   "cell_type": "markdown",
   "metadata": {},
   "source": [
    "Frankly, I was and still am a bit confused by these results.  The confusion matrix results would indicate that model 3 optimizes towards true positives the best, but ROC AUC score and ROC curves tell a different story. I chatted with Heather a bit and her guess, if I'm not butchering her analysis, was that the Naive Bayes models true positive rate remains high even as the false positive rate increases, whereas the Random Forest model had more of a tradeoff with its TP rate as FP increased.\n",
    "\n",
    "Friday note: This is another area that I wish I had done more digging since the differing results muddy the interpretive waters.  If I were to circle back to this project in the future, I would definitley try to get a better understanding of what led to these results and which model should ultimately be selected."
   ]
  },
  {
   "cell_type": "markdown",
   "metadata": {},
   "source": [
    "## Which predictions were wrong? "
   ]
  },
  {
   "cell_type": "code",
   "execution_count": 74,
   "metadata": {
    "ExecuteTime": {
     "end_time": "2021-04-30T20:11:28.994155Z",
     "start_time": "2021-04-30T20:11:28.986507Z"
    }
   },
   "outputs": [],
   "source": [
    "output_df = pd.DataFrame(preds, columns=['preds'])"
   ]
  },
  {
   "cell_type": "code",
   "execution_count": 75,
   "metadata": {
    "ExecuteTime": {
     "end_time": "2021-04-30T20:11:29.252310Z",
     "start_time": "2021-04-30T20:11:29.095191Z"
    }
   },
   "outputs": [],
   "source": [
    "df = pd.concat([df, output_df], axis=1)"
   ]
  },
  {
   "cell_type": "code",
   "execution_count": 76,
   "metadata": {
    "ExecuteTime": {
     "end_time": "2021-04-30T20:11:29.343482Z",
     "start_time": "2021-04-30T20:11:29.269571Z"
    }
   },
   "outputs": [
    {
     "data": {
      "text/html": [
       "<div>\n",
       "<style scoped>\n",
       "    .dataframe tbody tr th:only-of-type {\n",
       "        vertical-align: middle;\n",
       "    }\n",
       "\n",
       "    .dataframe tbody tr th {\n",
       "        vertical-align: top;\n",
       "    }\n",
       "\n",
       "    .dataframe thead th {\n",
       "        text-align: right;\n",
       "    }\n",
       "</style>\n",
       "<table border=\"1\" class=\"dataframe\">\n",
       "  <thead>\n",
       "    <tr style=\"text-align: right;\">\n",
       "      <th></th>\n",
       "      <th>title</th>\n",
       "      <th>selftext</th>\n",
       "      <th>subreddit</th>\n",
       "      <th>created_utc</th>\n",
       "      <th>author</th>\n",
       "      <th>num_comments</th>\n",
       "      <th>score</th>\n",
       "      <th>is_self</th>\n",
       "      <th>timestamp</th>\n",
       "      <th>title_and_selftext</th>\n",
       "      <th>is_bitcoin</th>\n",
       "      <th>selftext_tokens</th>\n",
       "      <th>title_and_selftext_tokens</th>\n",
       "      <th>selftext_lem</th>\n",
       "      <th>title_and_selftext_lem</th>\n",
       "      <th>title_word_count</th>\n",
       "      <th>title_length</th>\n",
       "      <th>selftext_word_count</th>\n",
       "      <th>selftext_length</th>\n",
       "      <th>preds</th>\n",
       "    </tr>\n",
       "  </thead>\n",
       "  <tbody>\n",
       "    <tr>\n",
       "      <th>0</th>\n",
       "      <td>passive bitaltcoin apps</td>\n",
       "      <td>hi kinda new crypto saw thread day good recomm...</td>\n",
       "      <td>Bitcoin</td>\n",
       "      <td>1.619300e+09</td>\n",
       "      <td>Comfortable-Hall-501</td>\n",
       "      <td>7.0</td>\n",
       "      <td>1.0</td>\n",
       "      <td>True</td>\n",
       "      <td>2021-04-24</td>\n",
       "      <td>passive bitaltcoin apps hi kinda new crypto sa...</td>\n",
       "      <td>1.0</td>\n",
       "      <td>['hi', 'kinda', 'new', 'crypto', 'saw', 'threa...</td>\n",
       "      <td>['passive', 'bitaltcoin', 'apps', 'hi', 'kinda...</td>\n",
       "      <td>hi kinda new crypto saw thread day good recomm...</td>\n",
       "      <td>passive bitaltcoin apps hi kinda new crypto sa...</td>\n",
       "      <td>3.0</td>\n",
       "      <td>23.0</td>\n",
       "      <td>30.0</td>\n",
       "      <td>208.0</td>\n",
       "      <td>1.0</td>\n",
       "    </tr>\n",
       "    <tr>\n",
       "      <th>1</th>\n",
       "      <td>why i think dorian satoshi nakamoto is creator...</td>\n",
       "      <td>know dorian denied creator bitcoin lived town ...</td>\n",
       "      <td>Bitcoin</td>\n",
       "      <td>1.619300e+09</td>\n",
       "      <td>bruh_360</td>\n",
       "      <td>4.0</td>\n",
       "      <td>1.0</td>\n",
       "      <td>True</td>\n",
       "      <td>2021-04-24</td>\n",
       "      <td>think dorian satoshi nakamoto creator bitcoin ...</td>\n",
       "      <td>1.0</td>\n",
       "      <td>['know', 'dorian', 'denied', 'creator', 'bitco...</td>\n",
       "      <td>['think', 'dorian', 'satoshi', 'nakamoto', 'cr...</td>\n",
       "      <td>know dorian denied creator bitcoin lived town ...</td>\n",
       "      <td>think dorian satoshi nakamoto creator bitcoin ...</td>\n",
       "      <td>10.0</td>\n",
       "      <td>57.0</td>\n",
       "      <td>61.0</td>\n",
       "      <td>448.0</td>\n",
       "      <td>1.0</td>\n",
       "    </tr>\n",
       "    <tr>\n",
       "      <th>2</th>\n",
       "      <td>why wont bitcoin get regulated</td>\n",
       "      <td>im new cryptocurrency even blockchain technolo...</td>\n",
       "      <td>Bitcoin</td>\n",
       "      <td>1.619301e+09</td>\n",
       "      <td>No-Librarian9752</td>\n",
       "      <td>9.0</td>\n",
       "      <td>1.0</td>\n",
       "      <td>True</td>\n",
       "      <td>2021-04-24</td>\n",
       "      <td>wont bitcoin get regulated im new cryptocurren...</td>\n",
       "      <td>1.0</td>\n",
       "      <td>['im', 'new', 'cryptocurrency', 'even', 'block...</td>\n",
       "      <td>['wont', 'bitcoin', 'get', 'regulated', 'im', ...</td>\n",
       "      <td>im new cryptocurrency even blockchain technolo...</td>\n",
       "      <td>wont bitcoin get regulated im new cryptocurren...</td>\n",
       "      <td>5.0</td>\n",
       "      <td>30.0</td>\n",
       "      <td>52.0</td>\n",
       "      <td>364.0</td>\n",
       "      <td>1.0</td>\n",
       "    </tr>\n",
       "    <tr>\n",
       "      <th>3</th>\n",
       "      <td>the beginning of a journey</td>\n",
       "      <td>hey everyone last week emotional rollercoaster...</td>\n",
       "      <td>Bitcoin</td>\n",
       "      <td>1.619301e+09</td>\n",
       "      <td>Mammoth_Lettuce_6706</td>\n",
       "      <td>11.0</td>\n",
       "      <td>1.0</td>\n",
       "      <td>True</td>\n",
       "      <td>2021-04-24</td>\n",
       "      <td>beginning journey hey everyone last week emoti...</td>\n",
       "      <td>1.0</td>\n",
       "      <td>['hey', 'everyone', 'last', 'week', 'emotional...</td>\n",
       "      <td>['beginning', 'journey', 'hey', 'everyone', 'l...</td>\n",
       "      <td>hey everyone last week emotional rollercoaster...</td>\n",
       "      <td>beginning journey hey everyone last week emoti...</td>\n",
       "      <td>5.0</td>\n",
       "      <td>26.0</td>\n",
       "      <td>185.0</td>\n",
       "      <td>1232.0</td>\n",
       "      <td>0.0</td>\n",
       "    </tr>\n",
       "    <tr>\n",
       "      <th>4</th>\n",
       "      <td>real inflation rates</td>\n",
       "      <td>pretty famous study inflection point diminishi...</td>\n",
       "      <td>Bitcoin</td>\n",
       "      <td>1.619302e+09</td>\n",
       "      <td>Easteuroblondie</td>\n",
       "      <td>93.0</td>\n",
       "      <td>1.0</td>\n",
       "      <td>True</td>\n",
       "      <td>2021-04-24</td>\n",
       "      <td>real inflation rates pretty famous study infle...</td>\n",
       "      <td>1.0</td>\n",
       "      <td>['pretty', 'famous', 'study', 'inflection', 'p...</td>\n",
       "      <td>['real', 'inflation', 'rates', 'pretty', 'famo...</td>\n",
       "      <td>pretty famous study inflection point diminishi...</td>\n",
       "      <td>real inflation rates pretty famous study infle...</td>\n",
       "      <td>3.0</td>\n",
       "      <td>20.0</td>\n",
       "      <td>94.0</td>\n",
       "      <td>679.0</td>\n",
       "      <td>1.0</td>\n",
       "    </tr>\n",
       "  </tbody>\n",
       "</table>\n",
       "</div>"
      ],
      "text/plain": [
       "                                               title  \\\n",
       "0                            passive bitaltcoin apps   \n",
       "1  why i think dorian satoshi nakamoto is creator...   \n",
       "2                     why wont bitcoin get regulated   \n",
       "3                         the beginning of a journey   \n",
       "4                               real inflation rates   \n",
       "\n",
       "                                            selftext subreddit   created_utc  \\\n",
       "0  hi kinda new crypto saw thread day good recomm...   Bitcoin  1.619300e+09   \n",
       "1  know dorian denied creator bitcoin lived town ...   Bitcoin  1.619300e+09   \n",
       "2  im new cryptocurrency even blockchain technolo...   Bitcoin  1.619301e+09   \n",
       "3  hey everyone last week emotional rollercoaster...   Bitcoin  1.619301e+09   \n",
       "4  pretty famous study inflection point diminishi...   Bitcoin  1.619302e+09   \n",
       "\n",
       "                 author  num_comments  score is_self   timestamp  \\\n",
       "0  Comfortable-Hall-501           7.0    1.0    True  2021-04-24   \n",
       "1              bruh_360           4.0    1.0    True  2021-04-24   \n",
       "2      No-Librarian9752           9.0    1.0    True  2021-04-24   \n",
       "3  Mammoth_Lettuce_6706          11.0    1.0    True  2021-04-24   \n",
       "4       Easteuroblondie          93.0    1.0    True  2021-04-24   \n",
       "\n",
       "                                  title_and_selftext  is_bitcoin  \\\n",
       "0  passive bitaltcoin apps hi kinda new crypto sa...         1.0   \n",
       "1  think dorian satoshi nakamoto creator bitcoin ...         1.0   \n",
       "2  wont bitcoin get regulated im new cryptocurren...         1.0   \n",
       "3  beginning journey hey everyone last week emoti...         1.0   \n",
       "4  real inflation rates pretty famous study infle...         1.0   \n",
       "\n",
       "                                     selftext_tokens  \\\n",
       "0  ['hi', 'kinda', 'new', 'crypto', 'saw', 'threa...   \n",
       "1  ['know', 'dorian', 'denied', 'creator', 'bitco...   \n",
       "2  ['im', 'new', 'cryptocurrency', 'even', 'block...   \n",
       "3  ['hey', 'everyone', 'last', 'week', 'emotional...   \n",
       "4  ['pretty', 'famous', 'study', 'inflection', 'p...   \n",
       "\n",
       "                           title_and_selftext_tokens  \\\n",
       "0  ['passive', 'bitaltcoin', 'apps', 'hi', 'kinda...   \n",
       "1  ['think', 'dorian', 'satoshi', 'nakamoto', 'cr...   \n",
       "2  ['wont', 'bitcoin', 'get', 'regulated', 'im', ...   \n",
       "3  ['beginning', 'journey', 'hey', 'everyone', 'l...   \n",
       "4  ['real', 'inflation', 'rates', 'pretty', 'famo...   \n",
       "\n",
       "                                        selftext_lem  \\\n",
       "0  hi kinda new crypto saw thread day good recomm...   \n",
       "1  know dorian denied creator bitcoin lived town ...   \n",
       "2  im new cryptocurrency even blockchain technolo...   \n",
       "3  hey everyone last week emotional rollercoaster...   \n",
       "4  pretty famous study inflection point diminishi...   \n",
       "\n",
       "                              title_and_selftext_lem  title_word_count  \\\n",
       "0  passive bitaltcoin apps hi kinda new crypto sa...               3.0   \n",
       "1  think dorian satoshi nakamoto creator bitcoin ...              10.0   \n",
       "2  wont bitcoin get regulated im new cryptocurren...               5.0   \n",
       "3  beginning journey hey everyone last week emoti...               5.0   \n",
       "4  real inflation rates pretty famous study infle...               3.0   \n",
       "\n",
       "   title_length  selftext_word_count  selftext_length  preds  \n",
       "0          23.0                 30.0            208.0    1.0  \n",
       "1          57.0                 61.0            448.0    1.0  \n",
       "2          30.0                 52.0            364.0    1.0  \n",
       "3          26.0                185.0           1232.0    0.0  \n",
       "4          20.0                 94.0            679.0    1.0  "
      ]
     },
     "execution_count": 76,
     "metadata": {},
     "output_type": "execute_result"
    }
   ],
   "source": [
    "df.head()"
   ]
  },
  {
   "cell_type": "code",
   "execution_count": 77,
   "metadata": {
    "ExecuteTime": {
     "end_time": "2021-04-30T20:11:29.521335Z",
     "start_time": "2021-04-30T20:11:29.474340Z"
    }
   },
   "outputs": [],
   "source": [
    "wrong_preds = df.loc[~(df['is_bitcoin'] == df['preds'])]"
   ]
  },
  {
   "cell_type": "code",
   "execution_count": 78,
   "metadata": {
    "ExecuteTime": {
     "end_time": "2021-04-30T20:11:29.708334Z",
     "start_time": "2021-04-30T20:11:29.668923Z"
    }
   },
   "outputs": [
    {
     "name": "stderr",
     "output_type": "stream",
     "text": [
      "<ipython-input-78-4b61445b1c21>:1: SettingWithCopyWarning: \n",
      "A value is trying to be set on a copy of a slice from a DataFrame\n",
      "\n",
      "See the caveats in the documentation: https://pandas.pydata.org/pandas-docs/stable/user_guide/indexing.html#returning-a-view-versus-a-copy\n",
      "  wrong_preds.dropna(inplace=True)\n"
     ]
    }
   ],
   "source": [
    "wrong_preds.dropna(inplace=True)"
   ]
  },
  {
   "cell_type": "code",
   "execution_count": 79,
   "metadata": {
    "ExecuteTime": {
     "end_time": "2021-04-30T20:11:29.926368Z",
     "start_time": "2021-04-30T20:11:29.795366Z"
    }
   },
   "outputs": [
    {
     "data": {
      "text/html": [
       "<div>\n",
       "<style scoped>\n",
       "    .dataframe tbody tr th:only-of-type {\n",
       "        vertical-align: middle;\n",
       "    }\n",
       "\n",
       "    .dataframe tbody tr th {\n",
       "        vertical-align: top;\n",
       "    }\n",
       "\n",
       "    .dataframe thead th {\n",
       "        text-align: right;\n",
       "    }\n",
       "</style>\n",
       "<table border=\"1\" class=\"dataframe\">\n",
       "  <thead>\n",
       "    <tr style=\"text-align: right;\">\n",
       "      <th></th>\n",
       "      <th>title</th>\n",
       "      <th>selftext</th>\n",
       "      <th>subreddit</th>\n",
       "      <th>created_utc</th>\n",
       "      <th>author</th>\n",
       "      <th>num_comments</th>\n",
       "      <th>score</th>\n",
       "      <th>is_self</th>\n",
       "      <th>timestamp</th>\n",
       "      <th>title_and_selftext</th>\n",
       "      <th>is_bitcoin</th>\n",
       "      <th>selftext_tokens</th>\n",
       "      <th>title_and_selftext_tokens</th>\n",
       "      <th>selftext_lem</th>\n",
       "      <th>title_and_selftext_lem</th>\n",
       "      <th>title_word_count</th>\n",
       "      <th>title_length</th>\n",
       "      <th>selftext_word_count</th>\n",
       "      <th>selftext_length</th>\n",
       "      <th>preds</th>\n",
       "    </tr>\n",
       "  </thead>\n",
       "  <tbody>\n",
       "    <tr>\n",
       "      <th>3</th>\n",
       "      <td>the beginning of a journey</td>\n",
       "      <td>hey everyone last week emotional rollercoaster...</td>\n",
       "      <td>Bitcoin</td>\n",
       "      <td>1.619301e+09</td>\n",
       "      <td>Mammoth_Lettuce_6706</td>\n",
       "      <td>11.0</td>\n",
       "      <td>1.0</td>\n",
       "      <td>True</td>\n",
       "      <td>2021-04-24</td>\n",
       "      <td>beginning journey hey everyone last week emoti...</td>\n",
       "      <td>1.0</td>\n",
       "      <td>['hey', 'everyone', 'last', 'week', 'emotional...</td>\n",
       "      <td>['beginning', 'journey', 'hey', 'everyone', 'l...</td>\n",
       "      <td>hey everyone last week emotional rollercoaster...</td>\n",
       "      <td>beginning journey hey everyone last week emoti...</td>\n",
       "      <td>5.0</td>\n",
       "      <td>26.0</td>\n",
       "      <td>185.0</td>\n",
       "      <td>1232.0</td>\n",
       "      <td>0.0</td>\n",
       "    </tr>\n",
       "    <tr>\n",
       "      <th>5</th>\n",
       "      <td>contnago btc trade</td>\n",
       "      <td>trying figure arrange cash carry trade holding...</td>\n",
       "      <td>Bitcoin</td>\n",
       "      <td>1.619302e+09</td>\n",
       "      <td>kras_G12d</td>\n",
       "      <td>2.0</td>\n",
       "      <td>1.0</td>\n",
       "      <td>True</td>\n",
       "      <td>2021-04-24</td>\n",
       "      <td>contnago btc trade trying figure arrange cash ...</td>\n",
       "      <td>1.0</td>\n",
       "      <td>['trying', 'figure', 'arrange', 'cash', 'carry...</td>\n",
       "      <td>['contnago', 'btc', 'trade', 'trying', 'figure...</td>\n",
       "      <td>trying figure arrange cash carry trade holding...</td>\n",
       "      <td>contnago btc trade trying figure arrange cash ...</td>\n",
       "      <td>3.0</td>\n",
       "      <td>18.0</td>\n",
       "      <td>59.0</td>\n",
       "      <td>423.0</td>\n",
       "      <td>0.0</td>\n",
       "    </tr>\n",
       "    <tr>\n",
       "      <th>7</th>\n",
       "      <td>crypto and legal weed financing</td>\n",
       "      <td>legal weed states trouble using banks federall...</td>\n",
       "      <td>Bitcoin</td>\n",
       "      <td>1.619303e+09</td>\n",
       "      <td>Jeffersness</td>\n",
       "      <td>4.0</td>\n",
       "      <td>1.0</td>\n",
       "      <td>True</td>\n",
       "      <td>2021-04-24</td>\n",
       "      <td>crypto legal weed financing legal weed states ...</td>\n",
       "      <td>1.0</td>\n",
       "      <td>['legal', 'weed', 'states', 'trouble', 'using'...</td>\n",
       "      <td>['crypto', 'legal', 'weed', 'financing', 'lega...</td>\n",
       "      <td>legal weed states trouble using banks federall...</td>\n",
       "      <td>crypto legal weed financing legal weed states ...</td>\n",
       "      <td>5.0</td>\n",
       "      <td>31.0</td>\n",
       "      <td>24.0</td>\n",
       "      <td>167.0</td>\n",
       "      <td>0.0</td>\n",
       "    </tr>\n",
       "    <tr>\n",
       "      <th>9</th>\n",
       "      <td>pow</td>\n",
       "      <td>hey guys first time posting fairly involved mi...</td>\n",
       "      <td>Bitcoin</td>\n",
       "      <td>1.619303e+09</td>\n",
       "      <td>Background_Union_497</td>\n",
       "      <td>12.0</td>\n",
       "      <td>1.0</td>\n",
       "      <td>True</td>\n",
       "      <td>2021-04-24</td>\n",
       "      <td>pow hey guys first time posting fairly involve...</td>\n",
       "      <td>1.0</td>\n",
       "      <td>['hey', 'guys', 'first', 'time', 'posting', 'f...</td>\n",
       "      <td>['pow', 'hey', 'guys', 'first', 'time', 'posti...</td>\n",
       "      <td>hey guys first time posting fairly involved mi...</td>\n",
       "      <td>pow hey guys first time posting fairly involve...</td>\n",
       "      <td>1.0</td>\n",
       "      <td>3.0</td>\n",
       "      <td>21.0</td>\n",
       "      <td>111.0</td>\n",
       "      <td>0.0</td>\n",
       "    </tr>\n",
       "    <tr>\n",
       "      <th>10</th>\n",
       "      <td>coinsmart stole  from me</td>\n",
       "      <td>loaded coinsmart wallet alll way back march to...</td>\n",
       "      <td>Bitcoin</td>\n",
       "      <td>1.619303e+09</td>\n",
       "      <td>MitchPperco</td>\n",
       "      <td>9.0</td>\n",
       "      <td>1.0</td>\n",
       "      <td>True</td>\n",
       "      <td>2021-04-24</td>\n",
       "      <td>coinsmart stole loaded coinsmart wallet alll w...</td>\n",
       "      <td>1.0</td>\n",
       "      <td>['loaded', 'coinsmart', 'wallet', 'alll', 'way...</td>\n",
       "      <td>['coinsmart', 'stole', 'loaded', 'coinsmart', ...</td>\n",
       "      <td>loaded coinsmart wallet alll way back march to...</td>\n",
       "      <td>coinsmart stole loaded coinsmart wallet alll w...</td>\n",
       "      <td>4.0</td>\n",
       "      <td>24.0</td>\n",
       "      <td>29.0</td>\n",
       "      <td>199.0</td>\n",
       "      <td>0.0</td>\n",
       "    </tr>\n",
       "    <tr>\n",
       "      <th>11</th>\n",
       "      <td>is there a way i can find out how long my tran...</td>\n",
       "      <td>know apparently btc fees outrageously high rig...</td>\n",
       "      <td>Bitcoin</td>\n",
       "      <td>1.619304e+09</td>\n",
       "      <td>thisisntus997</td>\n",
       "      <td>2.0</td>\n",
       "      <td>1.0</td>\n",
       "      <td>True</td>\n",
       "      <td>2021-04-24</td>\n",
       "      <td>way find long transaction take waiting days kn...</td>\n",
       "      <td>1.0</td>\n",
       "      <td>['know', 'apparently', 'btc', 'fees', 'outrage...</td>\n",
       "      <td>['way', 'find', 'long', 'transaction', 'take',...</td>\n",
       "      <td>know apparently btc fees outrageously high rig...</td>\n",
       "      <td>way find long transaction take waiting days kn...</td>\n",
       "      <td>17.0</td>\n",
       "      <td>82.0</td>\n",
       "      <td>83.0</td>\n",
       "      <td>522.0</td>\n",
       "      <td>0.0</td>\n",
       "    </tr>\n",
       "    <tr>\n",
       "      <th>13</th>\n",
       "      <td>bitcoins creator</td>\n",
       "      <td>skip story know satoshi real issue coming ligh...</td>\n",
       "      <td>Bitcoin</td>\n",
       "      <td>1.619304e+09</td>\n",
       "      <td>OpinionsAreUseless</td>\n",
       "      <td>30.0</td>\n",
       "      <td>1.0</td>\n",
       "      <td>True</td>\n",
       "      <td>2021-04-24</td>\n",
       "      <td>bitcoins creator skip story know satoshi real ...</td>\n",
       "      <td>1.0</td>\n",
       "      <td>['skip', 'story', 'know', 'satoshi', 'real', '...</td>\n",
       "      <td>['bitcoins', 'creator', 'skip', 'story', 'know...</td>\n",
       "      <td>skip story know satoshi real issue coming ligh...</td>\n",
       "      <td>bitcoins creator skip story know satoshi real ...</td>\n",
       "      <td>2.0</td>\n",
       "      <td>16.0</td>\n",
       "      <td>52.0</td>\n",
       "      <td>373.0</td>\n",
       "      <td>0.0</td>\n",
       "    </tr>\n",
       "    <tr>\n",
       "      <th>24</th>\n",
       "      <td>i swear bitcoin always knows</td>\n",
       "      <td>buy cause damn price always goes right lol</td>\n",
       "      <td>Bitcoin</td>\n",
       "      <td>1.619308e+09</td>\n",
       "      <td>Alexmandu</td>\n",
       "      <td>10.0</td>\n",
       "      <td>1.0</td>\n",
       "      <td>True</td>\n",
       "      <td>2021-04-24</td>\n",
       "      <td>swear bitcoin always knows buy cause damn pric...</td>\n",
       "      <td>1.0</td>\n",
       "      <td>['buy', 'cause', 'damn', 'price', 'always', 'g...</td>\n",
       "      <td>['swear', 'bitcoin', 'always', 'knows', 'buy',...</td>\n",
       "      <td>buy cause damn price always goes right lol</td>\n",
       "      <td>swear bitcoin always knows buy cause damn pric...</td>\n",
       "      <td>5.0</td>\n",
       "      <td>28.0</td>\n",
       "      <td>12.0</td>\n",
       "      <td>69.0</td>\n",
       "      <td>0.0</td>\n",
       "    </tr>\n",
       "    <tr>\n",
       "      <th>25</th>\n",
       "      <td>created a wallet at bitaddressorg in  now what</td>\n",
       "      <td>wallet id private key wallet contains fraction...</td>\n",
       "      <td>Bitcoin</td>\n",
       "      <td>1.619309e+09</td>\n",
       "      <td>funtent</td>\n",
       "      <td>13.0</td>\n",
       "      <td>1.0</td>\n",
       "      <td>True</td>\n",
       "      <td>2021-04-24</td>\n",
       "      <td>created wallet bitaddressorg wallet id private...</td>\n",
       "      <td>1.0</td>\n",
       "      <td>['wallet', 'id', 'private', 'key', 'wallet', '...</td>\n",
       "      <td>['created', 'wallet', 'bitaddressorg', 'wallet...</td>\n",
       "      <td>wallet id private key wallet contains fraction...</td>\n",
       "      <td>created wallet bitaddressorg wallet id private...</td>\n",
       "      <td>8.0</td>\n",
       "      <td>46.0</td>\n",
       "      <td>29.0</td>\n",
       "      <td>193.0</td>\n",
       "      <td>0.0</td>\n",
       "    </tr>\n",
       "    <tr>\n",
       "      <th>36</th>\n",
       "      <td>n of m multisignature with hardware wallets</td>\n",
       "      <td>good guide set use multisig hw walletsnice inf...</td>\n",
       "      <td>Bitcoin</td>\n",
       "      <td>1.619314e+09</td>\n",
       "      <td>Appropriate_Money_</td>\n",
       "      <td>3.0</td>\n",
       "      <td>1.0</td>\n",
       "      <td>True</td>\n",
       "      <td>2021-04-24</td>\n",
       "      <td>n multisignature hardware wallets good guide s...</td>\n",
       "      <td>1.0</td>\n",
       "      <td>['good', 'guide', 'set', 'use', 'multisig', 'h...</td>\n",
       "      <td>['n', 'multisignature', 'hardware', 'wallets',...</td>\n",
       "      <td>good guide set use multisig hw walletsnice inf...</td>\n",
       "      <td>n multisignature hardware wallets good guide s...</td>\n",
       "      <td>7.0</td>\n",
       "      <td>43.0</td>\n",
       "      <td>20.0</td>\n",
       "      <td>142.0</td>\n",
       "      <td>0.0</td>\n",
       "    </tr>\n",
       "    <tr>\n",
       "      <th>37</th>\n",
       "      <td>recovering old bitcoin</td>\n",
       "      <td>im trying find walletdat file friend mines hdd...</td>\n",
       "      <td>Bitcoin</td>\n",
       "      <td>1.619314e+09</td>\n",
       "      <td>Dragondm0n</td>\n",
       "      <td>9.0</td>\n",
       "      <td>1.0</td>\n",
       "      <td>True</td>\n",
       "      <td>2021-04-24</td>\n",
       "      <td>recovering old bitcoin im trying find walletda...</td>\n",
       "      <td>1.0</td>\n",
       "      <td>['im', 'trying', 'find', 'walletdat', 'file', ...</td>\n",
       "      <td>['recovering', 'old', 'bitcoin', 'im', 'trying...</td>\n",
       "      <td>im trying find walletdat file friend mines hdd...</td>\n",
       "      <td>recovering old bitcoin im trying find walletda...</td>\n",
       "      <td>3.0</td>\n",
       "      <td>22.0</td>\n",
       "      <td>45.0</td>\n",
       "      <td>304.0</td>\n",
       "      <td>0.0</td>\n",
       "    </tr>\n",
       "    <tr>\n",
       "      <th>38</th>\n",
       "      <td>bitcoins hashrate and mempool back to normal</td>\n",
       "      <td>hashratemempoolantifud bonusgt bbc jack dorsey...</td>\n",
       "      <td>Bitcoin</td>\n",
       "      <td>1.619315e+09</td>\n",
       "      <td>simplelifestyle</td>\n",
       "      <td>17.0</td>\n",
       "      <td>1.0</td>\n",
       "      <td>True</td>\n",
       "      <td>2021-04-24</td>\n",
       "      <td>bitcoins hashrate mempool back normal hashrate...</td>\n",
       "      <td>1.0</td>\n",
       "      <td>['hashratemempoolantifud', 'bonusgt', 'bbc', '...</td>\n",
       "      <td>['bitcoins', 'hashrate', 'mempool', 'back', 'n...</td>\n",
       "      <td>hashratemempoolantifud bonusgt bbc jack dorsey...</td>\n",
       "      <td>bitcoins hashrate mempool back normal hashrate...</td>\n",
       "      <td>7.0</td>\n",
       "      <td>44.0</td>\n",
       "      <td>16.0</td>\n",
       "      <td>127.0</td>\n",
       "      <td>0.0</td>\n",
       "    </tr>\n",
       "    <tr>\n",
       "      <th>45</th>\n",
       "      <td>a second crypto exchange in turkey has been sh...</td>\n",
       "      <td>thodex vebitcoin shut turkish authorities arre...</td>\n",
       "      <td>Bitcoin</td>\n",
       "      <td>1.619316e+09</td>\n",
       "      <td>Extremely-Bad-Idea</td>\n",
       "      <td>32.0</td>\n",
       "      <td>1.0</td>\n",
       "      <td>True</td>\n",
       "      <td>2021-04-24</td>\n",
       "      <td>second crypto exchange turkey shut due fraud b...</td>\n",
       "      <td>1.0</td>\n",
       "      <td>['thodex', 'vebitcoin', 'shut', 'turkish', 'au...</td>\n",
       "      <td>['second', 'crypto', 'exchange', 'turkey', 'sh...</td>\n",
       "      <td>thodex vebitcoin shut turkish authorities arre...</td>\n",
       "      <td>second crypto exchange turkey shut due fraud b...</td>\n",
       "      <td>35.0</td>\n",
       "      <td>205.0</td>\n",
       "      <td>32.0</td>\n",
       "      <td>226.0</td>\n",
       "      <td>0.0</td>\n",
       "    </tr>\n",
       "    <tr>\n",
       "      <th>47</th>\n",
       "      <td>boomer bullshit</td>\n",
       "      <td>someone missed</td>\n",
       "      <td>Bitcoin</td>\n",
       "      <td>1.619317e+09</td>\n",
       "      <td>DeadPrezFolder</td>\n",
       "      <td>39.0</td>\n",
       "      <td>1.0</td>\n",
       "      <td>True</td>\n",
       "      <td>2021-04-24</td>\n",
       "      <td>boomer bullshit someone missed</td>\n",
       "      <td>1.0</td>\n",
       "      <td>['someone', 'missed']</td>\n",
       "      <td>['boomer', 'bullshit', 'someone', 'missed']</td>\n",
       "      <td>someone missed</td>\n",
       "      <td>boomer bullshit someone missed</td>\n",
       "      <td>2.0</td>\n",
       "      <td>15.0</td>\n",
       "      <td>4.0</td>\n",
       "      <td>30.0</td>\n",
       "      <td>0.0</td>\n",
       "    </tr>\n",
       "    <tr>\n",
       "      <th>53</th>\n",
       "      <td>billionairesmillionaires please donate</td>\n",
       "      <td>someone send bitcoin five really stagnant life...</td>\n",
       "      <td>Bitcoin</td>\n",
       "      <td>1.619318e+09</td>\n",
       "      <td>Upbeat_Conclusion_34</td>\n",
       "      <td>2.0</td>\n",
       "      <td>1.0</td>\n",
       "      <td>True</td>\n",
       "      <td>2021-04-24</td>\n",
       "      <td>billionairesmillionaires please donate someone...</td>\n",
       "      <td>1.0</td>\n",
       "      <td>['someone', 'send', 'bitcoin', 'five', 'really...</td>\n",
       "      <td>['billionairesmillionaires', 'please', 'donate...</td>\n",
       "      <td>someone send bitcoin five really stagnant life...</td>\n",
       "      <td>billionairesmillionaires please donate someone...</td>\n",
       "      <td>3.0</td>\n",
       "      <td>38.0</td>\n",
       "      <td>54.0</td>\n",
       "      <td>393.0</td>\n",
       "      <td>0.0</td>\n",
       "    </tr>\n",
       "    <tr>\n",
       "      <th>60</th>\n",
       "      <td>bitcoin block size debate limit and controversies</td>\n",
       "      <td>bitcoin block size debate limit controversies ...</td>\n",
       "      <td>Bitcoin</td>\n",
       "      <td>1.619321e+09</td>\n",
       "      <td>LeoPhuong90</td>\n",
       "      <td>0.0</td>\n",
       "      <td>1.0</td>\n",
       "      <td>True</td>\n",
       "      <td>2021-04-24</td>\n",
       "      <td>bitcoin block size debate limit controversies ...</td>\n",
       "      <td>1.0</td>\n",
       "      <td>['bitcoin', 'block', 'size', 'debate', 'limit'...</td>\n",
       "      <td>['bitcoin', 'block', 'size', 'debate', 'limit'...</td>\n",
       "      <td>bitcoin block size debate limit controversies ...</td>\n",
       "      <td>bitcoin block size debate limit controversies ...</td>\n",
       "      <td>7.0</td>\n",
       "      <td>49.0</td>\n",
       "      <td>27.0</td>\n",
       "      <td>216.0</td>\n",
       "      <td>0.0</td>\n",
       "    </tr>\n",
       "    <tr>\n",
       "      <th>61</th>\n",
       "      <td>ive heard people say the transaction fees for ...</td>\n",
       "      <td>know bit rookie question cant one curious thanks</td>\n",
       "      <td>Bitcoin</td>\n",
       "      <td>1.619322e+09</td>\n",
       "      <td>maxwelder</td>\n",
       "      <td>28.0</td>\n",
       "      <td>1.0</td>\n",
       "      <td>True</td>\n",
       "      <td>2021-04-24</td>\n",
       "      <td>ive heard people say transaction fees bitcoin ...</td>\n",
       "      <td>1.0</td>\n",
       "      <td>['know', 'bit', 'rookie', 'question', 'cant', ...</td>\n",
       "      <td>['ive', 'heard', 'people', 'say', 'transaction...</td>\n",
       "      <td>know bit rookie question cant one curious thanks</td>\n",
       "      <td>ive heard people say transaction fees bitcoin ...</td>\n",
       "      <td>19.0</td>\n",
       "      <td>96.0</td>\n",
       "      <td>18.0</td>\n",
       "      <td>108.0</td>\n",
       "      <td>0.0</td>\n",
       "    </tr>\n",
       "    <tr>\n",
       "      <th>63</th>\n",
       "      <td>prediction how much itll rise after the dip</td>\n",
       "      <td>looks like dip finished heading back track muc...</td>\n",
       "      <td>Bitcoin</td>\n",
       "      <td>1.619214e+09</td>\n",
       "      <td>willthrowaway_</td>\n",
       "      <td>13.0</td>\n",
       "      <td>1.0</td>\n",
       "      <td>True</td>\n",
       "      <td>2021-04-23</td>\n",
       "      <td>prediction much itll rise dip looks like dip f...</td>\n",
       "      <td>1.0</td>\n",
       "      <td>['looks', 'like', 'dip', 'finished', 'heading'...</td>\n",
       "      <td>['prediction', 'much', 'itll', 'rise', 'dip', ...</td>\n",
       "      <td>looks like dip finished heading back track muc...</td>\n",
       "      <td>prediction much itll rise dip looks like dip f...</td>\n",
       "      <td>8.0</td>\n",
       "      <td>43.0</td>\n",
       "      <td>16.0</td>\n",
       "      <td>93.0</td>\n",
       "      <td>0.0</td>\n",
       "    </tr>\n",
       "    <tr>\n",
       "      <th>64</th>\n",
       "      <td>stop seeing bitcoin as stocks</td>\n",
       "      <td>let tell brain smooth side ive got cents ready...</td>\n",
       "      <td>Bitcoin</td>\n",
       "      <td>1.619215e+09</td>\n",
       "      <td>mechanify</td>\n",
       "      <td>9.0</td>\n",
       "      <td>1.0</td>\n",
       "      <td>True</td>\n",
       "      <td>2021-04-23</td>\n",
       "      <td>stop seeing bitcoin stocks let tell brain smoo...</td>\n",
       "      <td>1.0</td>\n",
       "      <td>['let', 'tell', 'brain', 'smooth', 'side', 'iv...</td>\n",
       "      <td>['stop', 'seeing', 'bitcoin', 'stocks', 'let',...</td>\n",
       "      <td>let tell brain smooth side ive got cents ready...</td>\n",
       "      <td>stop seeing bitcoin stocks let tell brain smoo...</td>\n",
       "      <td>5.0</td>\n",
       "      <td>29.0</td>\n",
       "      <td>96.0</td>\n",
       "      <td>677.0</td>\n",
       "      <td>0.0</td>\n",
       "    </tr>\n",
       "    <tr>\n",
       "      <th>67</th>\n",
       "      <td>buying bitcoin</td>\n",
       "      <td>listen lads ups downs im relatively new crypto...</td>\n",
       "      <td>Bitcoin</td>\n",
       "      <td>1.619215e+09</td>\n",
       "      <td>NeverStopStacking</td>\n",
       "      <td>2.0</td>\n",
       "      <td>1.0</td>\n",
       "      <td>True</td>\n",
       "      <td>2021-04-23</td>\n",
       "      <td>buying bitcoin listen lads ups downs im relati...</td>\n",
       "      <td>1.0</td>\n",
       "      <td>['listen', 'lads', 'ups', 'downs', 'im', 'rela...</td>\n",
       "      <td>['buying', 'bitcoin', 'listen', 'lads', 'ups',...</td>\n",
       "      <td>listen lads ups downs im relatively new crypto...</td>\n",
       "      <td>buying bitcoin listen lads ups downs im relati...</td>\n",
       "      <td>2.0</td>\n",
       "      <td>14.0</td>\n",
       "      <td>58.0</td>\n",
       "      <td>399.0</td>\n",
       "      <td>0.0</td>\n",
       "    </tr>\n",
       "    <tr>\n",
       "      <th>74</th>\n",
       "      <td>bitcoin collateral</td>\n",
       "      <td>someone still thinking good idea borrow bitcoi...</td>\n",
       "      <td>Bitcoin</td>\n",
       "      <td>1.619216e+09</td>\n",
       "      <td>block1king</td>\n",
       "      <td>2.0</td>\n",
       "      <td>1.0</td>\n",
       "      <td>True</td>\n",
       "      <td>2021-04-23</td>\n",
       "      <td>bitcoin collateral someone still thinking good...</td>\n",
       "      <td>1.0</td>\n",
       "      <td>['someone', 'still', 'thinking', 'good', 'idea...</td>\n",
       "      <td>['bitcoin', 'collateral', 'someone', 'still', ...</td>\n",
       "      <td>someone still thinking good idea borrow bitcoi...</td>\n",
       "      <td>bitcoin collateral someone still thinking good...</td>\n",
       "      <td>2.0</td>\n",
       "      <td>18.0</td>\n",
       "      <td>20.0</td>\n",
       "      <td>129.0</td>\n",
       "      <td>0.0</td>\n",
       "    </tr>\n",
       "    <tr>\n",
       "      <th>75</th>\n",
       "      <td>privilege</td>\n",
       "      <td>anyone else sometimes remember lucky asset lik...</td>\n",
       "      <td>Bitcoin</td>\n",
       "      <td>1.619216e+09</td>\n",
       "      <td>mambell</td>\n",
       "      <td>3.0</td>\n",
       "      <td>1.0</td>\n",
       "      <td>True</td>\n",
       "      <td>2021-04-23</td>\n",
       "      <td>privilege anyone else sometimes remember lucky...</td>\n",
       "      <td>1.0</td>\n",
       "      <td>['anyone', 'else', 'sometimes', 'remember', 'l...</td>\n",
       "      <td>['privilege', 'anyone', 'else', 'sometimes', '...</td>\n",
       "      <td>anyone else sometimes remember lucky asset lik...</td>\n",
       "      <td>privilege anyone else sometimes remember lucky...</td>\n",
       "      <td>1.0</td>\n",
       "      <td>9.0</td>\n",
       "      <td>33.0</td>\n",
       "      <td>278.0</td>\n",
       "      <td>0.0</td>\n",
       "    </tr>\n",
       "    <tr>\n",
       "      <th>76</th>\n",
       "      <td>bitcoin blockchains</td>\n",
       "      <td>far behind second longest blockchain within bi...</td>\n",
       "      <td>Bitcoin</td>\n",
       "      <td>1.619217e+09</td>\n",
       "      <td>randrand127</td>\n",
       "      <td>3.0</td>\n",
       "      <td>1.0</td>\n",
       "      <td>True</td>\n",
       "      <td>2021-04-23</td>\n",
       "      <td>bitcoin blockchains far behind second longest ...</td>\n",
       "      <td>1.0</td>\n",
       "      <td>['far', 'behind', 'second', 'longest', 'blockc...</td>\n",
       "      <td>['bitcoin', 'blockchains', 'far', 'behind', 's...</td>\n",
       "      <td>far behind second longest blockchain within bi...</td>\n",
       "      <td>bitcoin blockchains far behind second longest ...</td>\n",
       "      <td>2.0</td>\n",
       "      <td>19.0</td>\n",
       "      <td>12.0</td>\n",
       "      <td>96.0</td>\n",
       "      <td>0.0</td>\n",
       "    </tr>\n",
       "    <tr>\n",
       "      <th>77</th>\n",
       "      <td>help me understand seems pointless to invest u...</td>\n",
       "      <td>hey im tempted go buy bitcoin seems pointless ...</td>\n",
       "      <td>Bitcoin</td>\n",
       "      <td>1.619217e+09</td>\n",
       "      <td>abbdee</td>\n",
       "      <td>45.0</td>\n",
       "      <td>1.0</td>\n",
       "      <td>True</td>\n",
       "      <td>2021-04-23</td>\n",
       "      <td>help understand seems pointless invest unless ...</td>\n",
       "      <td>1.0</td>\n",
       "      <td>['hey', 'im', 'tempted', 'go', 'buy', 'bitcoin...</td>\n",
       "      <td>['help', 'understand', 'seems', 'pointless', '...</td>\n",
       "      <td>hey im tempted go buy bitcoin seems pointless ...</td>\n",
       "      <td>help understand seems pointless invest unless ...</td>\n",
       "      <td>11.0</td>\n",
       "      <td>70.0</td>\n",
       "      <td>24.0</td>\n",
       "      <td>157.0</td>\n",
       "      <td>0.0</td>\n",
       "    </tr>\n",
       "    <tr>\n",
       "      <th>78</th>\n",
       "      <td>one week later and my transaction finally went...</td>\n",
       "      <td>know bitcoin trying figure get transaction wor...</td>\n",
       "      <td>Bitcoin</td>\n",
       "      <td>1.619218e+09</td>\n",
       "      <td>Moveslikedatsyuk5</td>\n",
       "      <td>3.0</td>\n",
       "      <td>1.0</td>\n",
       "      <td>True</td>\n",
       "      <td>2021-04-23</td>\n",
       "      <td>one week later transaction finally went know b...</td>\n",
       "      <td>1.0</td>\n",
       "      <td>['know', 'bitcoin', 'trying', 'figure', 'get',...</td>\n",
       "      <td>['one', 'week', 'later', 'transaction', 'final...</td>\n",
       "      <td>know bitcoin trying figure get transaction wor...</td>\n",
       "      <td>one week later transaction finally went know b...</td>\n",
       "      <td>9.0</td>\n",
       "      <td>54.0</td>\n",
       "      <td>39.0</td>\n",
       "      <td>241.0</td>\n",
       "      <td>0.0</td>\n",
       "    </tr>\n",
       "    <tr>\n",
       "      <th>81</th>\n",
       "      <td>the nonexistent energy problem of bitcoin</td>\n",
       "      <td>get downvoted many times sub reddits explainin...</td>\n",
       "      <td>Bitcoin</td>\n",
       "      <td>1.619218e+09</td>\n",
       "      <td>superm8n</td>\n",
       "      <td>27.0</td>\n",
       "      <td>1.0</td>\n",
       "      <td>True</td>\n",
       "      <td>2021-04-23</td>\n",
       "      <td>nonexistent energy problem bitcoin get downvot...</td>\n",
       "      <td>1.0</td>\n",
       "      <td>['get', 'downvoted', 'many', 'times', 'sub', '...</td>\n",
       "      <td>['nonexistent', 'energy', 'problem', 'bitcoin'...</td>\n",
       "      <td>get downvoted many times sub reddits explainin...</td>\n",
       "      <td>nonexistent energy problem bitcoin get downvot...</td>\n",
       "      <td>6.0</td>\n",
       "      <td>41.0</td>\n",
       "      <td>40.0</td>\n",
       "      <td>289.0</td>\n",
       "      <td>0.0</td>\n",
       "    </tr>\n",
       "    <tr>\n",
       "      <th>82</th>\n",
       "      <td>creating an account with my friend</td>\n",
       "      <td>helloi wan invest together friend websites hel...</td>\n",
       "      <td>Bitcoin</td>\n",
       "      <td>1.619219e+09</td>\n",
       "      <td>hfhfhfh88</td>\n",
       "      <td>8.0</td>\n",
       "      <td>1.0</td>\n",
       "      <td>True</td>\n",
       "      <td>2021-04-23</td>\n",
       "      <td>creating account friend helloi wan invest toge...</td>\n",
       "      <td>1.0</td>\n",
       "      <td>['helloi', 'wan', 'invest', 'together', 'frien...</td>\n",
       "      <td>['creating', 'account', 'friend', 'helloi', 'w...</td>\n",
       "      <td>helloi wan invest together friend websites hel...</td>\n",
       "      <td>creating account friend helloi wan invest toge...</td>\n",
       "      <td>6.0</td>\n",
       "      <td>34.0</td>\n",
       "      <td>29.0</td>\n",
       "      <td>198.0</td>\n",
       "      <td>0.0</td>\n",
       "    </tr>\n",
       "    <tr>\n",
       "      <th>83</th>\n",
       "      <td>is there a platform where i can buy amp then i...</td>\n",
       "      <td>hi guys lot bitcoin transfers people cannot bu...</td>\n",
       "      <td>Bitcoin</td>\n",
       "      <td>1.619219e+09</td>\n",
       "      <td>realmajorflv</td>\n",
       "      <td>16.0</td>\n",
       "      <td>1.0</td>\n",
       "      <td>True</td>\n",
       "      <td>2021-04-23</td>\n",
       "      <td>platform buy amp instantly withdraw thousands ...</td>\n",
       "      <td>1.0</td>\n",
       "      <td>['hi', 'guys', 'lot', 'bitcoin', 'transfers', ...</td>\n",
       "      <td>['platform', 'buy', 'amp', 'instantly', 'withd...</td>\n",
       "      <td>hi guys lot bitcoin transfers people can not b...</td>\n",
       "      <td>platform buy amp instantly withdraw thousands ...</td>\n",
       "      <td>15.0</td>\n",
       "      <td>80.0</td>\n",
       "      <td>70.0</td>\n",
       "      <td>467.0</td>\n",
       "      <td>0.0</td>\n",
       "    </tr>\n",
       "    <tr>\n",
       "      <th>85</th>\n",
       "      <td>bitcoin gods please stop this</td>\n",
       "      <td>dont drop like next seconds next time wake coi...</td>\n",
       "      <td>Bitcoin</td>\n",
       "      <td>1.619220e+09</td>\n",
       "      <td>Twelver313</td>\n",
       "      <td>101.0</td>\n",
       "      <td>1.0</td>\n",
       "      <td>True</td>\n",
       "      <td>2021-04-23</td>\n",
       "      <td>bitcoin gods please stop dont drop like next s...</td>\n",
       "      <td>1.0</td>\n",
       "      <td>['dont', 'drop', 'like', 'next', 'seconds', 'n...</td>\n",
       "      <td>['bitcoin', 'gods', 'please', 'stop', 'dont', ...</td>\n",
       "      <td>dont drop like next seconds next time wake coi...</td>\n",
       "      <td>bitcoin gods please stop dont drop like next s...</td>\n",
       "      <td>5.0</td>\n",
       "      <td>29.0</td>\n",
       "      <td>15.0</td>\n",
       "      <td>84.0</td>\n",
       "      <td>0.0</td>\n",
       "    </tr>\n",
       "    <tr>\n",
       "      <th>86</th>\n",
       "      <td>have a bitcoin  conference ticket</td>\n",
       "      <td>hi guys sure else post tired facebook luck pur...</td>\n",
       "      <td>Bitcoin</td>\n",
       "      <td>1.619220e+09</td>\n",
       "      <td>Bemo98</td>\n",
       "      <td>3.0</td>\n",
       "      <td>1.0</td>\n",
       "      <td>True</td>\n",
       "      <td>2021-04-23</td>\n",
       "      <td>bitcoin conference ticket hi guys sure else po...</td>\n",
       "      <td>1.0</td>\n",
       "      <td>['hi', 'guys', 'sure', 'else', 'post', 'tired'...</td>\n",
       "      <td>['bitcoin', 'conference', 'ticket', 'hi', 'guy...</td>\n",
       "      <td>hi guys sure else post tired facebook luck pur...</td>\n",
       "      <td>bitcoin conference ticket hi guys sure else po...</td>\n",
       "      <td>5.0</td>\n",
       "      <td>33.0</td>\n",
       "      <td>29.0</td>\n",
       "      <td>187.0</td>\n",
       "      <td>0.0</td>\n",
       "    </tr>\n",
       "    <tr>\n",
       "      <th>88</th>\n",
       "      <td>the first  comments get free sample packs of m...</td>\n",
       "      <td>first comments get free sample packs marijuana...</td>\n",
       "      <td>Bitcoin</td>\n",
       "      <td>1.619220e+09</td>\n",
       "      <td>Twelver313</td>\n",
       "      <td>73.0</td>\n",
       "      <td>1.0</td>\n",
       "      <td>True</td>\n",
       "      <td>2021-04-23</td>\n",
       "      <td>first comments get free sample packs marijuana...</td>\n",
       "      <td>1.0</td>\n",
       "      <td>['first', 'comments', 'get', 'free', 'sample',...</td>\n",
       "      <td>['first', 'comments', 'get', 'free', 'sample',...</td>\n",
       "      <td>first comments get free sample packs marijuana...</td>\n",
       "      <td>first comments get free sample packs marijuana...</td>\n",
       "      <td>14.0</td>\n",
       "      <td>81.0</td>\n",
       "      <td>20.0</td>\n",
       "      <td>133.0</td>\n",
       "      <td>0.0</td>\n",
       "    </tr>\n",
       "    <tr>\n",
       "      <th>89</th>\n",
       "      <td>just joined the party</td>\n",
       "      <td>hey guys joined party purchased worth bitcoin ...</td>\n",
       "      <td>Bitcoin</td>\n",
       "      <td>1.619221e+09</td>\n",
       "      <td>AshKetchumAge10</td>\n",
       "      <td>17.0</td>\n",
       "      <td>1.0</td>\n",
       "      <td>True</td>\n",
       "      <td>2021-04-23</td>\n",
       "      <td>joined party hey guys joined party purchased w...</td>\n",
       "      <td>1.0</td>\n",
       "      <td>['hey', 'guys', 'joined', 'party', 'purchased'...</td>\n",
       "      <td>['joined', 'party', 'hey', 'guys', 'joined', '...</td>\n",
       "      <td>hey guys joined party purchased worth bitcoin ...</td>\n",
       "      <td>joined party hey guys joined party purchased w...</td>\n",
       "      <td>4.0</td>\n",
       "      <td>21.0</td>\n",
       "      <td>15.0</td>\n",
       "      <td>97.0</td>\n",
       "      <td>0.0</td>\n",
       "    </tr>\n",
       "    <tr>\n",
       "      <th>92</th>\n",
       "      <td>freiexchange to coinsquare</td>\n",
       "      <td>hey everyone withdrew btc freiexchange account...</td>\n",
       "      <td>Bitcoin</td>\n",
       "      <td>1.619221e+09</td>\n",
       "      <td>Lucidity10</td>\n",
       "      <td>1.0</td>\n",
       "      <td>1.0</td>\n",
       "      <td>True</td>\n",
       "      <td>2021-04-23</td>\n",
       "      <td>freiexchange coinsquare hey everyone withdrew ...</td>\n",
       "      <td>1.0</td>\n",
       "      <td>['hey', 'everyone', 'withdrew', 'btc', 'freiex...</td>\n",
       "      <td>['freiexchange', 'coinsquare', 'hey', 'everyon...</td>\n",
       "      <td>hey everyone withdrew btc freiexchange account...</td>\n",
       "      <td>freiexchange coinsquare hey everyone withdrew ...</td>\n",
       "      <td>3.0</td>\n",
       "      <td>26.0</td>\n",
       "      <td>25.0</td>\n",
       "      <td>181.0</td>\n",
       "      <td>0.0</td>\n",
       "    </tr>\n",
       "    <tr>\n",
       "      <th>94</th>\n",
       "      <td>thoughts on staking bitcoin on an exchange</td>\n",
       "      <td>ive seen bitcoin staked exchanges varying apr ...</td>\n",
       "      <td>Bitcoin</td>\n",
       "      <td>1.619221e+09</td>\n",
       "      <td>Character-Ad-5617</td>\n",
       "      <td>6.0</td>\n",
       "      <td>1.0</td>\n",
       "      <td>True</td>\n",
       "      <td>2021-04-23</td>\n",
       "      <td>thoughts staking bitcoin exchange ive seen bit...</td>\n",
       "      <td>1.0</td>\n",
       "      <td>['ive', 'seen', 'bitcoin', 'staked', 'exchange...</td>\n",
       "      <td>['thoughts', 'staking', 'bitcoin', 'exchange',...</td>\n",
       "      <td>ive seen bitcoin staked exchanges varying apr ...</td>\n",
       "      <td>thoughts staking bitcoin exchange ive seen bit...</td>\n",
       "      <td>7.0</td>\n",
       "      <td>42.0</td>\n",
       "      <td>32.0</td>\n",
       "      <td>209.0</td>\n",
       "      <td>0.0</td>\n",
       "    </tr>\n",
       "    <tr>\n",
       "      <th>95</th>\n",
       "      <td>how to avoid liquidation</td>\n",
       "      <td>hi got liquidated due market crashing min way ...</td>\n",
       "      <td>Bitcoin</td>\n",
       "      <td>1.619221e+09</td>\n",
       "      <td>ColbyKeyz</td>\n",
       "      <td>11.0</td>\n",
       "      <td>1.0</td>\n",
       "      <td>True</td>\n",
       "      <td>2021-04-23</td>\n",
       "      <td>avoid liquidation hi got liquidated due market...</td>\n",
       "      <td>1.0</td>\n",
       "      <td>['hi', 'got', 'liquidated', 'due', 'market', '...</td>\n",
       "      <td>['avoid', 'liquidation', 'hi', 'got', 'liquida...</td>\n",
       "      <td>hi got liquidated due market crashing min way ...</td>\n",
       "      <td>avoid liquidation hi got liquidated due market...</td>\n",
       "      <td>4.0</td>\n",
       "      <td>24.0</td>\n",
       "      <td>36.0</td>\n",
       "      <td>224.0</td>\n",
       "      <td>0.0</td>\n",
       "    </tr>\n",
       "    <tr>\n",
       "      <th>97</th>\n",
       "      <td>what to do about robinhood</td>\n",
       "      <td>start know shouldnt bought robinhood keys etc ...</td>\n",
       "      <td>Bitcoin</td>\n",
       "      <td>1.619222e+09</td>\n",
       "      <td>jesuschristdude</td>\n",
       "      <td>12.0</td>\n",
       "      <td>1.0</td>\n",
       "      <td>True</td>\n",
       "      <td>2021-04-23</td>\n",
       "      <td>robinhood start know shouldnt bought robinhood...</td>\n",
       "      <td>1.0</td>\n",
       "      <td>['start', 'know', 'shouldnt', 'bought', 'robin...</td>\n",
       "      <td>['robinhood', 'start', 'know', 'shouldnt', 'bo...</td>\n",
       "      <td>start know shouldnt bought robinhood keys etc ...</td>\n",
       "      <td>robinhood start know shouldnt bought robinhood...</td>\n",
       "      <td>5.0</td>\n",
       "      <td>26.0</td>\n",
       "      <td>83.0</td>\n",
       "      <td>560.0</td>\n",
       "      <td>0.0</td>\n",
       "    </tr>\n",
       "    <tr>\n",
       "      <th>106</th>\n",
       "      <td>cryptocom sold my phone number</td>\n",
       "      <td>started getting spam texts within hour signing...</td>\n",
       "      <td>Bitcoin</td>\n",
       "      <td>1.619223e+09</td>\n",
       "      <td>Flat_Struggle_9680</td>\n",
       "      <td>5.0</td>\n",
       "      <td>1.0</td>\n",
       "      <td>True</td>\n",
       "      <td>2021-04-23</td>\n",
       "      <td>cryptocom sold phone number started getting sp...</td>\n",
       "      <td>1.0</td>\n",
       "      <td>['started', 'getting', 'spam', 'texts', 'withi...</td>\n",
       "      <td>['cryptocom', 'sold', 'phone', 'number', 'star...</td>\n",
       "      <td>started getting spam texts within hour signing...</td>\n",
       "      <td>cryptocom sold phone number started getting sp...</td>\n",
       "      <td>5.0</td>\n",
       "      <td>30.0</td>\n",
       "      <td>14.0</td>\n",
       "      <td>91.0</td>\n",
       "      <td>0.0</td>\n",
       "    </tr>\n",
       "    <tr>\n",
       "      <th>107</th>\n",
       "      <td>will cshpp  for  in btc one time thing need a ...</td>\n",
       "      <td>first come first serve</td>\n",
       "      <td>Bitcoin</td>\n",
       "      <td>1.619224e+09</td>\n",
       "      <td>duemo1</td>\n",
       "      <td>1.0</td>\n",
       "      <td>1.0</td>\n",
       "      <td>True</td>\n",
       "      <td>2021-04-23</td>\n",
       "      <td>cshpp btc one time thing need top first come f...</td>\n",
       "      <td>1.0</td>\n",
       "      <td>['first', 'come', 'first', 'serve']</td>\n",
       "      <td>['cshpp', 'btc', 'one', 'time', 'thing', 'need...</td>\n",
       "      <td>first come first serve</td>\n",
       "      <td>cshpp btc one time thing need top first come f...</td>\n",
       "      <td>12.0</td>\n",
       "      <td>52.0</td>\n",
       "      <td>11.0</td>\n",
       "      <td>56.0</td>\n",
       "      <td>0.0</td>\n",
       "    </tr>\n",
       "    <tr>\n",
       "      <th>109</th>\n",
       "      <td>attn all bitcoiners</td>\n",
       "      <td>f going many people buying dip thinking holdin...</td>\n",
       "      <td>Bitcoin</td>\n",
       "      <td>1.619225e+09</td>\n",
       "      <td>Cathalg101</td>\n",
       "      <td>19.0</td>\n",
       "      <td>1.0</td>\n",
       "      <td>True</td>\n",
       "      <td>2021-04-23</td>\n",
       "      <td>attn bitcoiners f going many people buying dip...</td>\n",
       "      <td>1.0</td>\n",
       "      <td>['f', 'going', 'many', 'people', 'buying', 'di...</td>\n",
       "      <td>['attn', 'bitcoiners', 'f', 'going', 'many', '...</td>\n",
       "      <td>f going many people buying dip thinking holdin...</td>\n",
       "      <td>attn bitcoiners f going many people buying dip...</td>\n",
       "      <td>3.0</td>\n",
       "      <td>19.0</td>\n",
       "      <td>20.0</td>\n",
       "      <td>128.0</td>\n",
       "      <td>0.0</td>\n",
       "    </tr>\n",
       "    <tr>\n",
       "      <th>115</th>\n",
       "      <td>issue with bitcoinlib installation for windows</td>\n",
       "      <td>fatal error cannot open include file opensslae...</td>\n",
       "      <td>Bitcoin</td>\n",
       "      <td>1.619227e+09</td>\n",
       "      <td>redrock_7</td>\n",
       "      <td>4.0</td>\n",
       "      <td>1.0</td>\n",
       "      <td>True</td>\n",
       "      <td>2021-04-23</td>\n",
       "      <td>issue bitcoinlib installation windows fatal er...</td>\n",
       "      <td>1.0</td>\n",
       "      <td>['fatal', 'error', 'can', 'not', 'open', 'incl...</td>\n",
       "      <td>['issue', 'bitcoinlib', 'installation', 'windo...</td>\n",
       "      <td>fatal error can not open include file openssla...</td>\n",
       "      <td>issue bitcoinlib installation windows fatal er...</td>\n",
       "      <td>6.0</td>\n",
       "      <td>46.0</td>\n",
       "      <td>37.0</td>\n",
       "      <td>287.0</td>\n",
       "      <td>0.0</td>\n",
       "    </tr>\n",
       "    <tr>\n",
       "      <th>116</th>\n",
       "      <td>oh no the price of btc is dropping because of ...</td>\n",
       "      <td>love people dont get many super long bitcoin u...</td>\n",
       "      <td>Bitcoin</td>\n",
       "      <td>1.619227e+09</td>\n",
       "      <td>CrownonTHErocksJ</td>\n",
       "      <td>83.0</td>\n",
       "      <td>1.0</td>\n",
       "      <td>True</td>\n",
       "      <td>2021-04-23</td>\n",
       "      <td>oh price btc dropping cares sure dont betting ...</td>\n",
       "      <td>1.0</td>\n",
       "      <td>['love', 'people', 'dont', 'get', 'many', 'sup...</td>\n",
       "      <td>['oh', 'price', 'btc', 'dropping', 'cares', 's...</td>\n",
       "      <td>love people dont get many super long bitcoin u...</td>\n",
       "      <td>oh price btc dropping cares sure dont betting ...</td>\n",
       "      <td>36.0</td>\n",
       "      <td>170.0</td>\n",
       "      <td>241.0</td>\n",
       "      <td>1652.0</td>\n",
       "      <td>0.0</td>\n",
       "    </tr>\n",
       "    <tr>\n",
       "      <th>121</th>\n",
       "      <td>what do you think of buying bitcoin using revo...</td>\n",
       "      <td>know hardware wallet better right around btc i...</td>\n",
       "      <td>Bitcoin</td>\n",
       "      <td>1.619042e+09</td>\n",
       "      <td>Ghostbelief</td>\n",
       "      <td>8.0</td>\n",
       "      <td>1.0</td>\n",
       "      <td>True</td>\n",
       "      <td>2021-04-21</td>\n",
       "      <td>think buying bitcoin using revolut know hardwa...</td>\n",
       "      <td>1.0</td>\n",
       "      <td>['know', 'hardware', 'wallet', 'better', 'righ...</td>\n",
       "      <td>['think', 'buying', 'bitcoin', 'using', 'revol...</td>\n",
       "      <td>know hardware wallet better right around btc i...</td>\n",
       "      <td>think buying bitcoin using revolut know hardwa...</td>\n",
       "      <td>9.0</td>\n",
       "      <td>50.0</td>\n",
       "      <td>23.0</td>\n",
       "      <td>148.0</td>\n",
       "      <td>0.0</td>\n",
       "    </tr>\n",
       "    <tr>\n",
       "      <th>122</th>\n",
       "      <td>a good exchange nonkyc lightning makertaker</td>\n",
       "      <td>im looking decentralized exchange like bisq li...</td>\n",
       "      <td>Bitcoin</td>\n",
       "      <td>1.619042e+09</td>\n",
       "      <td>NodeTraverser</td>\n",
       "      <td>10.0</td>\n",
       "      <td>1.0</td>\n",
       "      <td>True</td>\n",
       "      <td>2021-04-21</td>\n",
       "      <td>good exchange nonkyc lightning makertaker im l...</td>\n",
       "      <td>1.0</td>\n",
       "      <td>['im', 'looking', 'decentralized', 'exchange',...</td>\n",
       "      <td>['good', 'exchange', 'nonkyc', 'lightning', 'm...</td>\n",
       "      <td>im looking decentralized exchange like bisq li...</td>\n",
       "      <td>good exchange nonkyc lightning makertaker im l...</td>\n",
       "      <td>6.0</td>\n",
       "      <td>43.0</td>\n",
       "      <td>17.0</td>\n",
       "      <td>126.0</td>\n",
       "      <td>0.0</td>\n",
       "    </tr>\n",
       "    <tr>\n",
       "      <th>125</th>\n",
       "      <td>unconfirmed for  days</td>\n",
       "      <td>hey guys made transaction android blockchain a...</td>\n",
       "      <td>Bitcoin</td>\n",
       "      <td>1.619042e+09</td>\n",
       "      <td>DeathSiren82</td>\n",
       "      <td>7.0</td>\n",
       "      <td>1.0</td>\n",
       "      <td>True</td>\n",
       "      <td>2021-04-21</td>\n",
       "      <td>unconfirmed days hey guys made transaction and...</td>\n",
       "      <td>1.0</td>\n",
       "      <td>['hey', 'guys', 'made', 'transaction', 'androi...</td>\n",
       "      <td>['unconfirmed', 'days', 'hey', 'guys', 'made',...</td>\n",
       "      <td>hey guys made transaction android blockchain a...</td>\n",
       "      <td>unconfirmed days hey guys made transaction and...</td>\n",
       "      <td>3.0</td>\n",
       "      <td>21.0</td>\n",
       "      <td>25.0</td>\n",
       "      <td>171.0</td>\n",
       "      <td>0.0</td>\n",
       "    </tr>\n",
       "    <tr>\n",
       "      <th>127</th>\n",
       "      <td>friend scammed   confs  can user cancel no rbf...</td>\n",
       "      <td>sure allowed sorry friend mine scammed sending...</td>\n",
       "      <td>Bitcoin</td>\n",
       "      <td>1.619043e+09</td>\n",
       "      <td>TheCulture1707</td>\n",
       "      <td>6.0</td>\n",
       "      <td>1.0</td>\n",
       "      <td>True</td>\n",
       "      <td>2021-04-21</td>\n",
       "      <td>friend scammed confs user cancel rbf enabled s...</td>\n",
       "      <td>1.0</td>\n",
       "      <td>['sure', 'allowed', 'sorry', 'friend', 'mine',...</td>\n",
       "      <td>['friend', 'scammed', 'confs', 'user', 'cancel...</td>\n",
       "      <td>sure allowed sorry friend mine scammed sending...</td>\n",
       "      <td>friend scammed confs user cancel rbf enabled s...</td>\n",
       "      <td>9.0</td>\n",
       "      <td>54.0</td>\n",
       "      <td>124.0</td>\n",
       "      <td>824.0</td>\n",
       "      <td>0.0</td>\n",
       "    </tr>\n",
       "    <tr>\n",
       "      <th>129</th>\n",
       "      <td>what happens once all the bitcoins are mined</td>\n",
       "      <td>less million coins mined happens supply runs m...</td>\n",
       "      <td>Bitcoin</td>\n",
       "      <td>1.619043e+09</td>\n",
       "      <td>FieldHood</td>\n",
       "      <td>12.0</td>\n",
       "      <td>1.0</td>\n",
       "      <td>True</td>\n",
       "      <td>2021-04-21</td>\n",
       "      <td>happens bitcoins mined less million coins mine...</td>\n",
       "      <td>1.0</td>\n",
       "      <td>['less', 'million', 'coins', 'mined', 'happens...</td>\n",
       "      <td>['happens', 'bitcoins', 'mined', 'less', 'mill...</td>\n",
       "      <td>less million coins mined happens supply runs m...</td>\n",
       "      <td>happens bitcoins mined less million coins mine...</td>\n",
       "      <td>8.0</td>\n",
       "      <td>44.0</td>\n",
       "      <td>20.0</td>\n",
       "      <td>124.0</td>\n",
       "      <td>0.0</td>\n",
       "    </tr>\n",
       "    <tr>\n",
       "      <th>135</th>\n",
       "      <td>bitcoins lightning network what is the purpose</td>\n",
       "      <td>bitcoins lightning network purpose ln system s...</td>\n",
       "      <td>Bitcoin</td>\n",
       "      <td>1.619044e+09</td>\n",
       "      <td>tanglanh</td>\n",
       "      <td>6.0</td>\n",
       "      <td>1.0</td>\n",
       "      <td>True</td>\n",
       "      <td>2021-04-21</td>\n",
       "      <td>bitcoins lightning network purpose bitcoins li...</td>\n",
       "      <td>1.0</td>\n",
       "      <td>['bitcoins', 'lightning', 'network', 'purpose'...</td>\n",
       "      <td>['bitcoins', 'lightning', 'network', 'purpose'...</td>\n",
       "      <td>bitcoins lightning network purpose ln system s...</td>\n",
       "      <td>bitcoins lightning network purpose bitcoins li...</td>\n",
       "      <td>7.0</td>\n",
       "      <td>46.0</td>\n",
       "      <td>21.0</td>\n",
       "      <td>185.0</td>\n",
       "      <td>0.0</td>\n",
       "    </tr>\n",
       "    <tr>\n",
       "      <th>139</th>\n",
       "      <td>just lost my first</td>\n",
       "      <td>wish additional funds pump keeping eye next fo...</td>\n",
       "      <td>Bitcoin</td>\n",
       "      <td>1.619044e+09</td>\n",
       "      <td>Dadbod2point0</td>\n",
       "      <td>8.0</td>\n",
       "      <td>1.0</td>\n",
       "      <td>True</td>\n",
       "      <td>2021-04-21</td>\n",
       "      <td>lost first wish additional funds pump keeping ...</td>\n",
       "      <td>1.0</td>\n",
       "      <td>['wish', 'additional', 'funds', 'pump', 'keepi...</td>\n",
       "      <td>['lost', 'first', 'wish', 'additional', 'funds...</td>\n",
       "      <td>wish additional funds pump keeping eye next fo...</td>\n",
       "      <td>lost first wish additional funds pump keeping ...</td>\n",
       "      <td>4.0</td>\n",
       "      <td>19.0</td>\n",
       "      <td>21.0</td>\n",
       "      <td>129.0</td>\n",
       "      <td>0.0</td>\n",
       "    </tr>\n",
       "    <tr>\n",
       "      <th>140</th>\n",
       "      <td>its summer  and theres a game that rewards bit...</td>\n",
       "      <td>anybody remember game perform tasks plant stuf...</td>\n",
       "      <td>Bitcoin</td>\n",
       "      <td>1.619045e+09</td>\n",
       "      <td>virtualburn</td>\n",
       "      <td>12.0</td>\n",
       "      <td>1.0</td>\n",
       "      <td>True</td>\n",
       "      <td>2021-04-21</td>\n",
       "      <td>summer theres game rewards bitcoin anybody rem...</td>\n",
       "      <td>1.0</td>\n",
       "      <td>['anybody', 'remember', 'game', 'perform', 'ta...</td>\n",
       "      <td>['summer', 'theres', 'game', 'rewards', 'bitco...</td>\n",
       "      <td>anybody remember game perform tasks plant stuf...</td>\n",
       "      <td>summer theres game rewards bitcoin anybody rem...</td>\n",
       "      <td>12.0</td>\n",
       "      <td>62.0</td>\n",
       "      <td>109.0</td>\n",
       "      <td>733.0</td>\n",
       "      <td>0.0</td>\n",
       "    </tr>\n",
       "    <tr>\n",
       "      <th>141</th>\n",
       "      <td>jpmorgan memo on bitcoin that is going around</td>\n",
       "      <td>strategists jpmorgan chase amp co warning bitc...</td>\n",
       "      <td>Bitcoin</td>\n",
       "      <td>1.619045e+09</td>\n",
       "      <td>TheB1ackPrince</td>\n",
       "      <td>77.0</td>\n",
       "      <td>1.0</td>\n",
       "      <td>True</td>\n",
       "      <td>2021-04-21</td>\n",
       "      <td>jpmorgan memo bitcoin going around strategists...</td>\n",
       "      <td>1.0</td>\n",
       "      <td>['strategists', 'jpmorgan', 'chase', 'amp', 'c...</td>\n",
       "      <td>['jpmorgan', 'memo', 'bitcoin', 'going', 'arou...</td>\n",
       "      <td>strategists jpmorgan chase amp co warning bitc...</td>\n",
       "      <td>jpmorgan memo bitcoin going around strategists...</td>\n",
       "      <td>8.0</td>\n",
       "      <td>45.0</td>\n",
       "      <td>47.0</td>\n",
       "      <td>328.0</td>\n",
       "      <td>0.0</td>\n",
       "    </tr>\n",
       "  </tbody>\n",
       "</table>\n",
       "</div>"
      ],
      "text/plain": [
       "                                                 title  \\\n",
       "3                           the beginning of a journey   \n",
       "5                                   contnago btc trade   \n",
       "7                      crypto and legal weed financing   \n",
       "9                                                  pow   \n",
       "10                            coinsmart stole  from me   \n",
       "11   is there a way i can find out how long my tran...   \n",
       "13                                    bitcoins creator   \n",
       "24                        i swear bitcoin always knows   \n",
       "25      created a wallet at bitaddressorg in  now what   \n",
       "36         n of m multisignature with hardware wallets   \n",
       "37                              recovering old bitcoin   \n",
       "38        bitcoins hashrate and mempool back to normal   \n",
       "45   a second crypto exchange in turkey has been sh...   \n",
       "47                                     boomer bullshit   \n",
       "53              billionairesmillionaires please donate   \n",
       "60   bitcoin block size debate limit and controversies   \n",
       "61   ive heard people say the transaction fees for ...   \n",
       "63         prediction how much itll rise after the dip   \n",
       "64                       stop seeing bitcoin as stocks   \n",
       "67                                      buying bitcoin   \n",
       "74                                  bitcoin collateral   \n",
       "75                                           privilege   \n",
       "76                                 bitcoin blockchains   \n",
       "77   help me understand seems pointless to invest u...   \n",
       "78   one week later and my transaction finally went...   \n",
       "81           the nonexistent energy problem of bitcoin   \n",
       "82                  creating an account with my friend   \n",
       "83   is there a platform where i can buy amp then i...   \n",
       "85                       bitcoin gods please stop this   \n",
       "86                   have a bitcoin  conference ticket   \n",
       "88   the first  comments get free sample packs of m...   \n",
       "89                               just joined the party   \n",
       "92                          freiexchange to coinsquare   \n",
       "94          thoughts on staking bitcoin on an exchange   \n",
       "95                            how to avoid liquidation   \n",
       "97                          what to do about robinhood   \n",
       "106                     cryptocom sold my phone number   \n",
       "107  will cshpp  for  in btc one time thing need a ...   \n",
       "109                                attn all bitcoiners   \n",
       "115     issue with bitcoinlib installation for windows   \n",
       "116  oh no the price of btc is dropping because of ...   \n",
       "121  what do you think of buying bitcoin using revo...   \n",
       "122        a good exchange nonkyc lightning makertaker   \n",
       "125                              unconfirmed for  days   \n",
       "127  friend scammed   confs  can user cancel no rbf...   \n",
       "129       what happens once all the bitcoins are mined   \n",
       "135     bitcoins lightning network what is the purpose   \n",
       "139                                just lost my first    \n",
       "140  its summer  and theres a game that rewards bit...   \n",
       "141      jpmorgan memo on bitcoin that is going around   \n",
       "\n",
       "                                              selftext subreddit  \\\n",
       "3    hey everyone last week emotional rollercoaster...   Bitcoin   \n",
       "5    trying figure arrange cash carry trade holding...   Bitcoin   \n",
       "7    legal weed states trouble using banks federall...   Bitcoin   \n",
       "9    hey guys first time posting fairly involved mi...   Bitcoin   \n",
       "10   loaded coinsmart wallet alll way back march to...   Bitcoin   \n",
       "11   know apparently btc fees outrageously high rig...   Bitcoin   \n",
       "13   skip story know satoshi real issue coming ligh...   Bitcoin   \n",
       "24          buy cause damn price always goes right lol   Bitcoin   \n",
       "25   wallet id private key wallet contains fraction...   Bitcoin   \n",
       "36   good guide set use multisig hw walletsnice inf...   Bitcoin   \n",
       "37   im trying find walletdat file friend mines hdd...   Bitcoin   \n",
       "38   hashratemempoolantifud bonusgt bbc jack dorsey...   Bitcoin   \n",
       "45   thodex vebitcoin shut turkish authorities arre...   Bitcoin   \n",
       "47                                      someone missed   Bitcoin   \n",
       "53   someone send bitcoin five really stagnant life...   Bitcoin   \n",
       "60   bitcoin block size debate limit controversies ...   Bitcoin   \n",
       "61    know bit rookie question cant one curious thanks   Bitcoin   \n",
       "63   looks like dip finished heading back track muc...   Bitcoin   \n",
       "64   let tell brain smooth side ive got cents ready...   Bitcoin   \n",
       "67   listen lads ups downs im relatively new crypto...   Bitcoin   \n",
       "74   someone still thinking good idea borrow bitcoi...   Bitcoin   \n",
       "75   anyone else sometimes remember lucky asset lik...   Bitcoin   \n",
       "76   far behind second longest blockchain within bi...   Bitcoin   \n",
       "77   hey im tempted go buy bitcoin seems pointless ...   Bitcoin   \n",
       "78   know bitcoin trying figure get transaction wor...   Bitcoin   \n",
       "81   get downvoted many times sub reddits explainin...   Bitcoin   \n",
       "82   helloi wan invest together friend websites hel...   Bitcoin   \n",
       "83   hi guys lot bitcoin transfers people cannot bu...   Bitcoin   \n",
       "85   dont drop like next seconds next time wake coi...   Bitcoin   \n",
       "86   hi guys sure else post tired facebook luck pur...   Bitcoin   \n",
       "88   first comments get free sample packs marijuana...   Bitcoin   \n",
       "89   hey guys joined party purchased worth bitcoin ...   Bitcoin   \n",
       "92   hey everyone withdrew btc freiexchange account...   Bitcoin   \n",
       "94   ive seen bitcoin staked exchanges varying apr ...   Bitcoin   \n",
       "95   hi got liquidated due market crashing min way ...   Bitcoin   \n",
       "97   start know shouldnt bought robinhood keys etc ...   Bitcoin   \n",
       "106  started getting spam texts within hour signing...   Bitcoin   \n",
       "107                             first come first serve   Bitcoin   \n",
       "109  f going many people buying dip thinking holdin...   Bitcoin   \n",
       "115  fatal error cannot open include file opensslae...   Bitcoin   \n",
       "116  love people dont get many super long bitcoin u...   Bitcoin   \n",
       "121  know hardware wallet better right around btc i...   Bitcoin   \n",
       "122  im looking decentralized exchange like bisq li...   Bitcoin   \n",
       "125  hey guys made transaction android blockchain a...   Bitcoin   \n",
       "127  sure allowed sorry friend mine scammed sending...   Bitcoin   \n",
       "129  less million coins mined happens supply runs m...   Bitcoin   \n",
       "135  bitcoins lightning network purpose ln system s...   Bitcoin   \n",
       "139  wish additional funds pump keeping eye next fo...   Bitcoin   \n",
       "140  anybody remember game perform tasks plant stuf...   Bitcoin   \n",
       "141  strategists jpmorgan chase amp co warning bitc...   Bitcoin   \n",
       "\n",
       "      created_utc                author  num_comments  score is_self  \\\n",
       "3    1.619301e+09  Mammoth_Lettuce_6706          11.0    1.0    True   \n",
       "5    1.619302e+09             kras_G12d           2.0    1.0    True   \n",
       "7    1.619303e+09           Jeffersness           4.0    1.0    True   \n",
       "9    1.619303e+09  Background_Union_497          12.0    1.0    True   \n",
       "10   1.619303e+09           MitchPperco           9.0    1.0    True   \n",
       "11   1.619304e+09         thisisntus997           2.0    1.0    True   \n",
       "13   1.619304e+09    OpinionsAreUseless          30.0    1.0    True   \n",
       "24   1.619308e+09             Alexmandu          10.0    1.0    True   \n",
       "25   1.619309e+09               funtent          13.0    1.0    True   \n",
       "36   1.619314e+09    Appropriate_Money_           3.0    1.0    True   \n",
       "37   1.619314e+09            Dragondm0n           9.0    1.0    True   \n",
       "38   1.619315e+09       simplelifestyle          17.0    1.0    True   \n",
       "45   1.619316e+09    Extremely-Bad-Idea          32.0    1.0    True   \n",
       "47   1.619317e+09        DeadPrezFolder          39.0    1.0    True   \n",
       "53   1.619318e+09  Upbeat_Conclusion_34           2.0    1.0    True   \n",
       "60   1.619321e+09           LeoPhuong90           0.0    1.0    True   \n",
       "61   1.619322e+09             maxwelder          28.0    1.0    True   \n",
       "63   1.619214e+09        willthrowaway_          13.0    1.0    True   \n",
       "64   1.619215e+09             mechanify           9.0    1.0    True   \n",
       "67   1.619215e+09     NeverStopStacking           2.0    1.0    True   \n",
       "74   1.619216e+09            block1king           2.0    1.0    True   \n",
       "75   1.619216e+09               mambell           3.0    1.0    True   \n",
       "76   1.619217e+09           randrand127           3.0    1.0    True   \n",
       "77   1.619217e+09                abbdee          45.0    1.0    True   \n",
       "78   1.619218e+09     Moveslikedatsyuk5           3.0    1.0    True   \n",
       "81   1.619218e+09              superm8n          27.0    1.0    True   \n",
       "82   1.619219e+09             hfhfhfh88           8.0    1.0    True   \n",
       "83   1.619219e+09          realmajorflv          16.0    1.0    True   \n",
       "85   1.619220e+09            Twelver313         101.0    1.0    True   \n",
       "86   1.619220e+09                Bemo98           3.0    1.0    True   \n",
       "88   1.619220e+09            Twelver313          73.0    1.0    True   \n",
       "89   1.619221e+09       AshKetchumAge10          17.0    1.0    True   \n",
       "92   1.619221e+09            Lucidity10           1.0    1.0    True   \n",
       "94   1.619221e+09     Character-Ad-5617           6.0    1.0    True   \n",
       "95   1.619221e+09             ColbyKeyz          11.0    1.0    True   \n",
       "97   1.619222e+09       jesuschristdude          12.0    1.0    True   \n",
       "106  1.619223e+09    Flat_Struggle_9680           5.0    1.0    True   \n",
       "107  1.619224e+09                duemo1           1.0    1.0    True   \n",
       "109  1.619225e+09            Cathalg101          19.0    1.0    True   \n",
       "115  1.619227e+09             redrock_7           4.0    1.0    True   \n",
       "116  1.619227e+09      CrownonTHErocksJ          83.0    1.0    True   \n",
       "121  1.619042e+09           Ghostbelief           8.0    1.0    True   \n",
       "122  1.619042e+09         NodeTraverser          10.0    1.0    True   \n",
       "125  1.619042e+09          DeathSiren82           7.0    1.0    True   \n",
       "127  1.619043e+09        TheCulture1707           6.0    1.0    True   \n",
       "129  1.619043e+09             FieldHood          12.0    1.0    True   \n",
       "135  1.619044e+09              tanglanh           6.0    1.0    True   \n",
       "139  1.619044e+09         Dadbod2point0           8.0    1.0    True   \n",
       "140  1.619045e+09           virtualburn          12.0    1.0    True   \n",
       "141  1.619045e+09        TheB1ackPrince          77.0    1.0    True   \n",
       "\n",
       "      timestamp                                 title_and_selftext  \\\n",
       "3    2021-04-24  beginning journey hey everyone last week emoti...   \n",
       "5    2021-04-24  contnago btc trade trying figure arrange cash ...   \n",
       "7    2021-04-24  crypto legal weed financing legal weed states ...   \n",
       "9    2021-04-24  pow hey guys first time posting fairly involve...   \n",
       "10   2021-04-24  coinsmart stole loaded coinsmart wallet alll w...   \n",
       "11   2021-04-24  way find long transaction take waiting days kn...   \n",
       "13   2021-04-24  bitcoins creator skip story know satoshi real ...   \n",
       "24   2021-04-24  swear bitcoin always knows buy cause damn pric...   \n",
       "25   2021-04-24  created wallet bitaddressorg wallet id private...   \n",
       "36   2021-04-24  n multisignature hardware wallets good guide s...   \n",
       "37   2021-04-24  recovering old bitcoin im trying find walletda...   \n",
       "38   2021-04-24  bitcoins hashrate mempool back normal hashrate...   \n",
       "45   2021-04-24  second crypto exchange turkey shut due fraud b...   \n",
       "47   2021-04-24                     boomer bullshit someone missed   \n",
       "53   2021-04-24  billionairesmillionaires please donate someone...   \n",
       "60   2021-04-24  bitcoin block size debate limit controversies ...   \n",
       "61   2021-04-24  ive heard people say transaction fees bitcoin ...   \n",
       "63   2021-04-23  prediction much itll rise dip looks like dip f...   \n",
       "64   2021-04-23  stop seeing bitcoin stocks let tell brain smoo...   \n",
       "67   2021-04-23  buying bitcoin listen lads ups downs im relati...   \n",
       "74   2021-04-23  bitcoin collateral someone still thinking good...   \n",
       "75   2021-04-23  privilege anyone else sometimes remember lucky...   \n",
       "76   2021-04-23  bitcoin blockchains far behind second longest ...   \n",
       "77   2021-04-23  help understand seems pointless invest unless ...   \n",
       "78   2021-04-23  one week later transaction finally went know b...   \n",
       "81   2021-04-23  nonexistent energy problem bitcoin get downvot...   \n",
       "82   2021-04-23  creating account friend helloi wan invest toge...   \n",
       "83   2021-04-23  platform buy amp instantly withdraw thousands ...   \n",
       "85   2021-04-23  bitcoin gods please stop dont drop like next s...   \n",
       "86   2021-04-23  bitcoin conference ticket hi guys sure else po...   \n",
       "88   2021-04-23  first comments get free sample packs marijuana...   \n",
       "89   2021-04-23  joined party hey guys joined party purchased w...   \n",
       "92   2021-04-23  freiexchange coinsquare hey everyone withdrew ...   \n",
       "94   2021-04-23  thoughts staking bitcoin exchange ive seen bit...   \n",
       "95   2021-04-23  avoid liquidation hi got liquidated due market...   \n",
       "97   2021-04-23  robinhood start know shouldnt bought robinhood...   \n",
       "106  2021-04-23  cryptocom sold phone number started getting sp...   \n",
       "107  2021-04-23  cshpp btc one time thing need top first come f...   \n",
       "109  2021-04-23  attn bitcoiners f going many people buying dip...   \n",
       "115  2021-04-23  issue bitcoinlib installation windows fatal er...   \n",
       "116  2021-04-23  oh price btc dropping cares sure dont betting ...   \n",
       "121  2021-04-21  think buying bitcoin using revolut know hardwa...   \n",
       "122  2021-04-21  good exchange nonkyc lightning makertaker im l...   \n",
       "125  2021-04-21  unconfirmed days hey guys made transaction and...   \n",
       "127  2021-04-21  friend scammed confs user cancel rbf enabled s...   \n",
       "129  2021-04-21  happens bitcoins mined less million coins mine...   \n",
       "135  2021-04-21  bitcoins lightning network purpose bitcoins li...   \n",
       "139  2021-04-21  lost first wish additional funds pump keeping ...   \n",
       "140  2021-04-21  summer theres game rewards bitcoin anybody rem...   \n",
       "141  2021-04-21  jpmorgan memo bitcoin going around strategists...   \n",
       "\n",
       "     is_bitcoin                                    selftext_tokens  \\\n",
       "3           1.0  ['hey', 'everyone', 'last', 'week', 'emotional...   \n",
       "5           1.0  ['trying', 'figure', 'arrange', 'cash', 'carry...   \n",
       "7           1.0  ['legal', 'weed', 'states', 'trouble', 'using'...   \n",
       "9           1.0  ['hey', 'guys', 'first', 'time', 'posting', 'f...   \n",
       "10          1.0  ['loaded', 'coinsmart', 'wallet', 'alll', 'way...   \n",
       "11          1.0  ['know', 'apparently', 'btc', 'fees', 'outrage...   \n",
       "13          1.0  ['skip', 'story', 'know', 'satoshi', 'real', '...   \n",
       "24          1.0  ['buy', 'cause', 'damn', 'price', 'always', 'g...   \n",
       "25          1.0  ['wallet', 'id', 'private', 'key', 'wallet', '...   \n",
       "36          1.0  ['good', 'guide', 'set', 'use', 'multisig', 'h...   \n",
       "37          1.0  ['im', 'trying', 'find', 'walletdat', 'file', ...   \n",
       "38          1.0  ['hashratemempoolantifud', 'bonusgt', 'bbc', '...   \n",
       "45          1.0  ['thodex', 'vebitcoin', 'shut', 'turkish', 'au...   \n",
       "47          1.0                              ['someone', 'missed']   \n",
       "53          1.0  ['someone', 'send', 'bitcoin', 'five', 'really...   \n",
       "60          1.0  ['bitcoin', 'block', 'size', 'debate', 'limit'...   \n",
       "61          1.0  ['know', 'bit', 'rookie', 'question', 'cant', ...   \n",
       "63          1.0  ['looks', 'like', 'dip', 'finished', 'heading'...   \n",
       "64          1.0  ['let', 'tell', 'brain', 'smooth', 'side', 'iv...   \n",
       "67          1.0  ['listen', 'lads', 'ups', 'downs', 'im', 'rela...   \n",
       "74          1.0  ['someone', 'still', 'thinking', 'good', 'idea...   \n",
       "75          1.0  ['anyone', 'else', 'sometimes', 'remember', 'l...   \n",
       "76          1.0  ['far', 'behind', 'second', 'longest', 'blockc...   \n",
       "77          1.0  ['hey', 'im', 'tempted', 'go', 'buy', 'bitcoin...   \n",
       "78          1.0  ['know', 'bitcoin', 'trying', 'figure', 'get',...   \n",
       "81          1.0  ['get', 'downvoted', 'many', 'times', 'sub', '...   \n",
       "82          1.0  ['helloi', 'wan', 'invest', 'together', 'frien...   \n",
       "83          1.0  ['hi', 'guys', 'lot', 'bitcoin', 'transfers', ...   \n",
       "85          1.0  ['dont', 'drop', 'like', 'next', 'seconds', 'n...   \n",
       "86          1.0  ['hi', 'guys', 'sure', 'else', 'post', 'tired'...   \n",
       "88          1.0  ['first', 'comments', 'get', 'free', 'sample',...   \n",
       "89          1.0  ['hey', 'guys', 'joined', 'party', 'purchased'...   \n",
       "92          1.0  ['hey', 'everyone', 'withdrew', 'btc', 'freiex...   \n",
       "94          1.0  ['ive', 'seen', 'bitcoin', 'staked', 'exchange...   \n",
       "95          1.0  ['hi', 'got', 'liquidated', 'due', 'market', '...   \n",
       "97          1.0  ['start', 'know', 'shouldnt', 'bought', 'robin...   \n",
       "106         1.0  ['started', 'getting', 'spam', 'texts', 'withi...   \n",
       "107         1.0                ['first', 'come', 'first', 'serve']   \n",
       "109         1.0  ['f', 'going', 'many', 'people', 'buying', 'di...   \n",
       "115         1.0  ['fatal', 'error', 'can', 'not', 'open', 'incl...   \n",
       "116         1.0  ['love', 'people', 'dont', 'get', 'many', 'sup...   \n",
       "121         1.0  ['know', 'hardware', 'wallet', 'better', 'righ...   \n",
       "122         1.0  ['im', 'looking', 'decentralized', 'exchange',...   \n",
       "125         1.0  ['hey', 'guys', 'made', 'transaction', 'androi...   \n",
       "127         1.0  ['sure', 'allowed', 'sorry', 'friend', 'mine',...   \n",
       "129         1.0  ['less', 'million', 'coins', 'mined', 'happens...   \n",
       "135         1.0  ['bitcoins', 'lightning', 'network', 'purpose'...   \n",
       "139         1.0  ['wish', 'additional', 'funds', 'pump', 'keepi...   \n",
       "140         1.0  ['anybody', 'remember', 'game', 'perform', 'ta...   \n",
       "141         1.0  ['strategists', 'jpmorgan', 'chase', 'amp', 'c...   \n",
       "\n",
       "                             title_and_selftext_tokens  \\\n",
       "3    ['beginning', 'journey', 'hey', 'everyone', 'l...   \n",
       "5    ['contnago', 'btc', 'trade', 'trying', 'figure...   \n",
       "7    ['crypto', 'legal', 'weed', 'financing', 'lega...   \n",
       "9    ['pow', 'hey', 'guys', 'first', 'time', 'posti...   \n",
       "10   ['coinsmart', 'stole', 'loaded', 'coinsmart', ...   \n",
       "11   ['way', 'find', 'long', 'transaction', 'take',...   \n",
       "13   ['bitcoins', 'creator', 'skip', 'story', 'know...   \n",
       "24   ['swear', 'bitcoin', 'always', 'knows', 'buy',...   \n",
       "25   ['created', 'wallet', 'bitaddressorg', 'wallet...   \n",
       "36   ['n', 'multisignature', 'hardware', 'wallets',...   \n",
       "37   ['recovering', 'old', 'bitcoin', 'im', 'trying...   \n",
       "38   ['bitcoins', 'hashrate', 'mempool', 'back', 'n...   \n",
       "45   ['second', 'crypto', 'exchange', 'turkey', 'sh...   \n",
       "47         ['boomer', 'bullshit', 'someone', 'missed']   \n",
       "53   ['billionairesmillionaires', 'please', 'donate...   \n",
       "60   ['bitcoin', 'block', 'size', 'debate', 'limit'...   \n",
       "61   ['ive', 'heard', 'people', 'say', 'transaction...   \n",
       "63   ['prediction', 'much', 'itll', 'rise', 'dip', ...   \n",
       "64   ['stop', 'seeing', 'bitcoin', 'stocks', 'let',...   \n",
       "67   ['buying', 'bitcoin', 'listen', 'lads', 'ups',...   \n",
       "74   ['bitcoin', 'collateral', 'someone', 'still', ...   \n",
       "75   ['privilege', 'anyone', 'else', 'sometimes', '...   \n",
       "76   ['bitcoin', 'blockchains', 'far', 'behind', 's...   \n",
       "77   ['help', 'understand', 'seems', 'pointless', '...   \n",
       "78   ['one', 'week', 'later', 'transaction', 'final...   \n",
       "81   ['nonexistent', 'energy', 'problem', 'bitcoin'...   \n",
       "82   ['creating', 'account', 'friend', 'helloi', 'w...   \n",
       "83   ['platform', 'buy', 'amp', 'instantly', 'withd...   \n",
       "85   ['bitcoin', 'gods', 'please', 'stop', 'dont', ...   \n",
       "86   ['bitcoin', 'conference', 'ticket', 'hi', 'guy...   \n",
       "88   ['first', 'comments', 'get', 'free', 'sample',...   \n",
       "89   ['joined', 'party', 'hey', 'guys', 'joined', '...   \n",
       "92   ['freiexchange', 'coinsquare', 'hey', 'everyon...   \n",
       "94   ['thoughts', 'staking', 'bitcoin', 'exchange',...   \n",
       "95   ['avoid', 'liquidation', 'hi', 'got', 'liquida...   \n",
       "97   ['robinhood', 'start', 'know', 'shouldnt', 'bo...   \n",
       "106  ['cryptocom', 'sold', 'phone', 'number', 'star...   \n",
       "107  ['cshpp', 'btc', 'one', 'time', 'thing', 'need...   \n",
       "109  ['attn', 'bitcoiners', 'f', 'going', 'many', '...   \n",
       "115  ['issue', 'bitcoinlib', 'installation', 'windo...   \n",
       "116  ['oh', 'price', 'btc', 'dropping', 'cares', 's...   \n",
       "121  ['think', 'buying', 'bitcoin', 'using', 'revol...   \n",
       "122  ['good', 'exchange', 'nonkyc', 'lightning', 'm...   \n",
       "125  ['unconfirmed', 'days', 'hey', 'guys', 'made',...   \n",
       "127  ['friend', 'scammed', 'confs', 'user', 'cancel...   \n",
       "129  ['happens', 'bitcoins', 'mined', 'less', 'mill...   \n",
       "135  ['bitcoins', 'lightning', 'network', 'purpose'...   \n",
       "139  ['lost', 'first', 'wish', 'additional', 'funds...   \n",
       "140  ['summer', 'theres', 'game', 'rewards', 'bitco...   \n",
       "141  ['jpmorgan', 'memo', 'bitcoin', 'going', 'arou...   \n",
       "\n",
       "                                          selftext_lem  \\\n",
       "3    hey everyone last week emotional rollercoaster...   \n",
       "5    trying figure arrange cash carry trade holding...   \n",
       "7    legal weed states trouble using banks federall...   \n",
       "9    hey guys first time posting fairly involved mi...   \n",
       "10   loaded coinsmart wallet alll way back march to...   \n",
       "11   know apparently btc fees outrageously high rig...   \n",
       "13   skip story know satoshi real issue coming ligh...   \n",
       "24          buy cause damn price always goes right lol   \n",
       "25   wallet id private key wallet contains fraction...   \n",
       "36   good guide set use multisig hw walletsnice inf...   \n",
       "37   im trying find walletdat file friend mines hdd...   \n",
       "38   hashratemempoolantifud bonusgt bbc jack dorsey...   \n",
       "45   thodex vebitcoin shut turkish authorities arre...   \n",
       "47                                      someone missed   \n",
       "53   someone send bitcoin five really stagnant life...   \n",
       "60   bitcoin block size debate limit controversies ...   \n",
       "61    know bit rookie question cant one curious thanks   \n",
       "63   looks like dip finished heading back track muc...   \n",
       "64   let tell brain smooth side ive got cents ready...   \n",
       "67   listen lads ups downs im relatively new crypto...   \n",
       "74   someone still thinking good idea borrow bitcoi...   \n",
       "75   anyone else sometimes remember lucky asset lik...   \n",
       "76   far behind second longest blockchain within bi...   \n",
       "77   hey im tempted go buy bitcoin seems pointless ...   \n",
       "78   know bitcoin trying figure get transaction wor...   \n",
       "81   get downvoted many times sub reddits explainin...   \n",
       "82   helloi wan invest together friend websites hel...   \n",
       "83   hi guys lot bitcoin transfers people can not b...   \n",
       "85   dont drop like next seconds next time wake coi...   \n",
       "86   hi guys sure else post tired facebook luck pur...   \n",
       "88   first comments get free sample packs marijuana...   \n",
       "89   hey guys joined party purchased worth bitcoin ...   \n",
       "92   hey everyone withdrew btc freiexchange account...   \n",
       "94   ive seen bitcoin staked exchanges varying apr ...   \n",
       "95   hi got liquidated due market crashing min way ...   \n",
       "97   start know shouldnt bought robinhood keys etc ...   \n",
       "106  started getting spam texts within hour signing...   \n",
       "107                             first come first serve   \n",
       "109  f going many people buying dip thinking holdin...   \n",
       "115  fatal error can not open include file openssla...   \n",
       "116  love people dont get many super long bitcoin u...   \n",
       "121  know hardware wallet better right around btc i...   \n",
       "122  im looking decentralized exchange like bisq li...   \n",
       "125  hey guys made transaction android blockchain a...   \n",
       "127  sure allowed sorry friend mine scammed sending...   \n",
       "129  less million coins mined happens supply runs m...   \n",
       "135  bitcoins lightning network purpose ln system s...   \n",
       "139  wish additional funds pump keeping eye next fo...   \n",
       "140  anybody remember game perform tasks plant stuf...   \n",
       "141  strategists jpmorgan chase amp co warning bitc...   \n",
       "\n",
       "                                title_and_selftext_lem  title_word_count  \\\n",
       "3    beginning journey hey everyone last week emoti...               5.0   \n",
       "5    contnago btc trade trying figure arrange cash ...               3.0   \n",
       "7    crypto legal weed financing legal weed states ...               5.0   \n",
       "9    pow hey guys first time posting fairly involve...               1.0   \n",
       "10   coinsmart stole loaded coinsmart wallet alll w...               4.0   \n",
       "11   way find long transaction take waiting days kn...              17.0   \n",
       "13   bitcoins creator skip story know satoshi real ...               2.0   \n",
       "24   swear bitcoin always knows buy cause damn pric...               5.0   \n",
       "25   created wallet bitaddressorg wallet id private...               8.0   \n",
       "36   n multisignature hardware wallets good guide s...               7.0   \n",
       "37   recovering old bitcoin im trying find walletda...               3.0   \n",
       "38   bitcoins hashrate mempool back normal hashrate...               7.0   \n",
       "45   second crypto exchange turkey shut due fraud b...              35.0   \n",
       "47                      boomer bullshit someone missed               2.0   \n",
       "53   billionairesmillionaires please donate someone...               3.0   \n",
       "60   bitcoin block size debate limit controversies ...               7.0   \n",
       "61   ive heard people say transaction fees bitcoin ...              19.0   \n",
       "63   prediction much itll rise dip looks like dip f...               8.0   \n",
       "64   stop seeing bitcoin stocks let tell brain smoo...               5.0   \n",
       "67   buying bitcoin listen lads ups downs im relati...               2.0   \n",
       "74   bitcoin collateral someone still thinking good...               2.0   \n",
       "75   privilege anyone else sometimes remember lucky...               1.0   \n",
       "76   bitcoin blockchains far behind second longest ...               2.0   \n",
       "77   help understand seems pointless invest unless ...              11.0   \n",
       "78   one week later transaction finally went know b...               9.0   \n",
       "81   nonexistent energy problem bitcoin get downvot...               6.0   \n",
       "82   creating account friend helloi wan invest toge...               6.0   \n",
       "83   platform buy amp instantly withdraw thousands ...              15.0   \n",
       "85   bitcoin gods please stop dont drop like next s...               5.0   \n",
       "86   bitcoin conference ticket hi guys sure else po...               5.0   \n",
       "88   first comments get free sample packs marijuana...              14.0   \n",
       "89   joined party hey guys joined party purchased w...               4.0   \n",
       "92   freiexchange coinsquare hey everyone withdrew ...               3.0   \n",
       "94   thoughts staking bitcoin exchange ive seen bit...               7.0   \n",
       "95   avoid liquidation hi got liquidated due market...               4.0   \n",
       "97   robinhood start know shouldnt bought robinhood...               5.0   \n",
       "106  cryptocom sold phone number started getting sp...               5.0   \n",
       "107  cshpp btc one time thing need top first come f...              12.0   \n",
       "109  attn bitcoiners f going many people buying dip...               3.0   \n",
       "115  issue bitcoinlib installation windows fatal er...               6.0   \n",
       "116  oh price btc dropping cares sure dont betting ...              36.0   \n",
       "121  think buying bitcoin using revolut know hardwa...               9.0   \n",
       "122  good exchange nonkyc lightning makertaker im l...               6.0   \n",
       "125  unconfirmed days hey guys made transaction and...               3.0   \n",
       "127  friend scammed confs user cancel rbf enabled s...               9.0   \n",
       "129  happens bitcoins mined less million coins mine...               8.0   \n",
       "135  bitcoins lightning network purpose bitcoins li...               7.0   \n",
       "139  lost first wish additional funds pump keeping ...               4.0   \n",
       "140  summer theres game rewards bitcoin anybody rem...              12.0   \n",
       "141  jpmorgan memo bitcoin going around strategists...               8.0   \n",
       "\n",
       "     title_length  selftext_word_count  selftext_length  preds  \n",
       "3            26.0                185.0           1232.0    0.0  \n",
       "5            18.0                 59.0            423.0    0.0  \n",
       "7            31.0                 24.0            167.0    0.0  \n",
       "9             3.0                 21.0            111.0    0.0  \n",
       "10           24.0                 29.0            199.0    0.0  \n",
       "11           82.0                 83.0            522.0    0.0  \n",
       "13           16.0                 52.0            373.0    0.0  \n",
       "24           28.0                 12.0             69.0    0.0  \n",
       "25           46.0                 29.0            193.0    0.0  \n",
       "36           43.0                 20.0            142.0    0.0  \n",
       "37           22.0                 45.0            304.0    0.0  \n",
       "38           44.0                 16.0            127.0    0.0  \n",
       "45          205.0                 32.0            226.0    0.0  \n",
       "47           15.0                  4.0             30.0    0.0  \n",
       "53           38.0                 54.0            393.0    0.0  \n",
       "60           49.0                 27.0            216.0    0.0  \n",
       "61           96.0                 18.0            108.0    0.0  \n",
       "63           43.0                 16.0             93.0    0.0  \n",
       "64           29.0                 96.0            677.0    0.0  \n",
       "67           14.0                 58.0            399.0    0.0  \n",
       "74           18.0                 20.0            129.0    0.0  \n",
       "75            9.0                 33.0            278.0    0.0  \n",
       "76           19.0                 12.0             96.0    0.0  \n",
       "77           70.0                 24.0            157.0    0.0  \n",
       "78           54.0                 39.0            241.0    0.0  \n",
       "81           41.0                 40.0            289.0    0.0  \n",
       "82           34.0                 29.0            198.0    0.0  \n",
       "83           80.0                 70.0            467.0    0.0  \n",
       "85           29.0                 15.0             84.0    0.0  \n",
       "86           33.0                 29.0            187.0    0.0  \n",
       "88           81.0                 20.0            133.0    0.0  \n",
       "89           21.0                 15.0             97.0    0.0  \n",
       "92           26.0                 25.0            181.0    0.0  \n",
       "94           42.0                 32.0            209.0    0.0  \n",
       "95           24.0                 36.0            224.0    0.0  \n",
       "97           26.0                 83.0            560.0    0.0  \n",
       "106          30.0                 14.0             91.0    0.0  \n",
       "107          52.0                 11.0             56.0    0.0  \n",
       "109          19.0                 20.0            128.0    0.0  \n",
       "115          46.0                 37.0            287.0    0.0  \n",
       "116         170.0                241.0           1652.0    0.0  \n",
       "121          50.0                 23.0            148.0    0.0  \n",
       "122          43.0                 17.0            126.0    0.0  \n",
       "125          21.0                 25.0            171.0    0.0  \n",
       "127          54.0                124.0            824.0    0.0  \n",
       "129          44.0                 20.0            124.0    0.0  \n",
       "135          46.0                 21.0            185.0    0.0  \n",
       "139          19.0                 21.0            129.0    0.0  \n",
       "140          62.0                109.0            733.0    0.0  \n",
       "141          45.0                 47.0            328.0    0.0  "
      ]
     },
     "execution_count": 79,
     "metadata": {},
     "output_type": "execute_result"
    }
   ],
   "source": [
    "wrong_preds.head(50)"
   ]
  },
  {
   "cell_type": "markdown",
   "metadata": {},
   "source": [
    "I used this section to identify posts that my model incorrectly classified, so I could pull a few out for the presentation. As I stated in my presentation, the model is strangely missing posts that have words like blockchain in them, which would seem to be a dead giveaway for which subreddit a post came from.  In my EDA, I did not see too many mentions of BTC in the ETC thread so it's confusing why this is happening.  \n",
    "\n",
    "Friday note: Using a more robust list of custom stopwords, and potentially using tf-idf instead of CV for EDA, may help this make more sense. Digging more into the patterns of the incorrecly classified posts is also something that deserved more time."
   ]
  },
  {
   "cell_type": "markdown",
   "metadata": {},
   "source": [
    "# Conclusions and Recommendations "
   ]
  },
  {
   "cell_type": "markdown",
   "metadata": {},
   "source": [
    "Key takeaways of this project:\n",
    "\n",
    "EDA: The most common words, bigrams, and trigrams in both of these subreddits' posts show that a large number of users are looking for advice as they navigate their cryptocurrency investing journey.  Stripping a few of the obvious words out of the analysis shows more specific discussions around the unique mechanisms of the currency, especially in the ETH thread. Adding a more robust custom stop word list, as well as sentiment analysis, are definitely two analysis tools I wish I had employed. Otherwise, nothing too surprising came out of my EDA.\n",
    "\n",
    "Modeling: After running CV and Naive Bayes, tf-idf and Naive Bayes, and CV and Random Forest models, it's still a bit unclear which model I would ultimately recommend.  Using the precision scores from the confusion matrices, the RF model would be the choice. When comparing the models with ROC curves however, the CV/NB model would be the choice.  If I had more time with this project, I would circle back to my EDA and add the additional steps and features I've mentioned and run the models again to see if a clear standout emerged.  Additionally, I would try to do a deeper investigation into the incorrectly classified posts to see if any patterns emerged that could improve the model further."
   ]
  },
  {
   "cell_type": "code",
   "execution_count": null,
   "metadata": {},
   "outputs": [],
   "source": []
  }
 ],
 "metadata": {
  "kernelspec": {
   "display_name": "Python 3",
   "language": "python",
   "name": "python3"
  },
  "language_info": {
   "codemirror_mode": {
    "name": "ipython",
    "version": 3
   },
   "file_extension": ".py",
   "mimetype": "text/x-python",
   "name": "python",
   "nbconvert_exporter": "python",
   "pygments_lexer": "ipython3",
   "version": "3.8.5"
  },
  "toc": {
   "base_numbering": 1,
   "nav_menu": {},
   "number_sections": true,
   "sideBar": true,
   "skip_h1_title": false,
   "title_cell": "Table of Contents",
   "title_sidebar": "Contents",
   "toc_cell": false,
   "toc_position": {},
   "toc_section_display": true,
   "toc_window_display": false
  }
 },
 "nbformat": 4,
 "nbformat_minor": 4
}
